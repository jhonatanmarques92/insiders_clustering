{
 "cells": [
  {
   "cell_type": "markdown",
   "id": "ca268a80",
   "metadata": {},
   "source": [
    "## Planejamento da solução (IOT)\n",
    "IOT significa input, output e tasks"
   ]
  },
  {
   "cell_type": "markdown",
   "id": "ad0b33c9",
   "metadata": {},
   "source": [
    "### Input (entrada)"
   ]
  },
  {
   "cell_type": "markdown",
   "id": "1a3efa58",
   "metadata": {},
   "source": [
    "1 - Problema de negócio  \n",
    " - Selecionar os clientes mais valiosos para integrar um programa de fidelização\n",
    "    \n",
    "2 - Coleta dos dados  \n",
    " - Vendas de um e-commerce durante o período de um ano"
   ]
  },
  {
   "cell_type": "markdown",
   "id": "171c90f4",
   "metadata": {},
   "source": [
    "### Output (saída)"
   ]
  },
  {
   "cell_type": "markdown",
   "id": "17308cc8",
   "metadata": {},
   "source": [
    "1 - A indicação das pessoas que farão parte do programa de Insiders\n",
    " - return: uma lista contendo o cliente e se está apto\n",
    " \n",
    " client | is_insider  \n",
    "   123  |  yes/1  \n",
    "   456  |  no/0\n",
    "   \n",
    "2 - Um relatório com as perguntas de negócio  \n",
    "1. Quem são as pessoas elegíveis para participar do programa de Insiders ?  \n",
    "2. Quantos clientes farão parte do grupo?  \n",
    "3. Quais as principais características desses clientes ?  \n",
    "4. Qual a porcentagem de contribuição do faturamento, vinda do Insiders ?  \n",
    "5. Qual a expectativa de faturamento desse grupo para os próximos meses ?  \n",
    "6. Quais as condições para uma pessoa ser elegível ao Insiders ?  \n",
    "7. Quais as condições para uma pessoa ser removida do Insiders ?  \n",
    "8. Qual a garantia que o programa Insiders é melhor que o restante da base ?  \n",
    "9. Quais ações o time de marketing pode realizar para aumentar o faturamento?  "
   ]
  },
  {
   "cell_type": "markdown",
   "id": "1d21083d",
   "metadata": {},
   "source": [
    "### Tasks (tarefas)"
   ]
  },
  {
   "cell_type": "markdown",
   "id": "dddf3466",
   "metadata": {},
   "source": [
    "1. Quem são as pessoas elegíveis para participar do programa de Insiders ?  \n",
    " - O que é ser elegível? O que são clientes de maior valor?\n",
    " - Faturamento  \n",
    "     - Alto ticket médio (média de compra)\n",
    "     - Alto LTV (long time value) (soma dos gastos)\n",
    "     - Baixa recência (tempo que ficou sem comprar)\n",
    "     - Alto basket size (tamanho da sua cesta de compras)\n",
    "     - Baixa probabilidade de churn\n",
    "     - Alta previsão de LTV\n",
    "     - Alta propensão de compra\n",
    " \n",
    " - Custo\n",
    "     - Baixa taxa de devolução\n",
    "     \n",
    " - Experiência de compra\n",
    "     - Média alta de avaliação\n",
    "     \n",
    "2. Quantos clientes farão parte do grupo? \n",
    " - Número total de clientes\n",
    " - Porcentagem do grupo insiders\n",
    " \n",
    "3. Quais as principais características desses clientes ?  \n",
    " - Escrever características do cliente\n",
    "     - Idade\n",
    "     - Localização\n",
    "     \n",
    " - Escrever características do consumo\n",
    "     - Atributos da clusterização\n",
    "     \n",
    "4. Qual a porcentagem de contribuição do faturamento, vinda do Insiders ?  \n",
    " - Faturamento total do ano\n",
    " - Faturamento total dos insiders\n",
    " \n",
    "5. Qual a expectativa de faturamento desse grupo para os próximos meses ? \n",
    " - LTV do grupo insiders\n",
    " - Análise de cohort (Marcar uma pessoa no tempo e analisar)\n",
    " \n",
    "6. Quais as condições para uma pessoa ser elegível ao Insiders ?  \n",
    " - Definir a periodicidade (1 mês, 3 meses)\n",
    " - A pessoa precisa ser similar ou parecida com uma do grupo\n",
    " \n",
    "7. Quais as condições para uma pessoa ser removida do Insiders ?  \n",
    " - Definir a periodicidade (1 mês, 3 meses)\n",
    " - A pessoa precisa ser desimilar ou não parecida com uma do grupo\n",
    " \n",
    "8. Qual a garantia que o programa Insiders é melhor que o restante da base ?  \n",
    " - Teste A/B\n",
    " - Teste A/B bayesiano\n",
    " - Teste de hipóteses\n",
    " \n",
    "9. Quais ações o time de marketing pode realizar para aumentar o faturamento? \n",
    " - Desconto\n",
    " - Preferência de compra\n",
    " - Frete\n",
    " - Visita na empresa"
   ]
  },
  {
   "cell_type": "code",
   "execution_count": null,
   "id": "52dafa9b",
   "metadata": {},
   "outputs": [],
   "source": []
  }
 ],
 "metadata": {
  "kernelspec": {
   "display_name": "Python 3 (ipykernel)",
   "language": "python",
   "name": "python3"
  },
  "language_info": {
   "codemirror_mode": {
    "name": "ipython",
    "version": 3
   },
   "file_extension": ".py",
   "mimetype": "text/x-python",
   "name": "python",
   "nbconvert_exporter": "python",
   "pygments_lexer": "ipython3",
   "version": "3.8.0"
  },
  "toc": {
   "base_numbering": 1,
   "nav_menu": {},
   "number_sections": false,
   "sideBar": true,
   "skip_h1_title": false,
   "title_cell": "Table of Contents",
   "title_sidebar": "Contents",
   "toc_cell": false,
   "toc_position": {},
   "toc_section_display": true,
   "toc_window_display": false
  }
 },
 "nbformat": 4,
 "nbformat_minor": 5
}
