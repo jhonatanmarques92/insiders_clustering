{
 "cells": [
  {
   "cell_type": "markdown",
   "id": "ca268a80",
   "metadata": {},
   "source": [
    "## Planejamento da solução (IOT)\n",
    "IOT significa input, output e tasks"
   ]
  },
  {
   "cell_type": "markdown",
   "id": "ad0b33c9",
   "metadata": {},
   "source": [
    "### Input (entrada)"
   ]
  },
  {
   "cell_type": "markdown",
   "id": "1a3efa58",
   "metadata": {},
   "source": [
    "1 - Problema de negócio  \n",
    " - Selecionar os clientes mais valiosos para integrar um programa de fidelização\n",
    "    \n",
    "2 - Coleta dos dados  \n",
    " - Vendas de um e-commerce durante o período de um ano"
   ]
  },
  {
   "cell_type": "markdown",
   "id": "171c90f4",
   "metadata": {},
   "source": [
    "### Output (saída)"
   ]
  },
  {
   "cell_type": "markdown",
   "id": "17308cc8",
   "metadata": {},
   "source": [
    "1 - A indicação das pessoas que farão parte do programa de Insiders\n",
    " - return: uma lista contendo o cliente e se está apto\n",
    " \n",
    " client | is_insider  \n",
    "   123  |  yes/1  \n",
    "   456  |  no/0\n",
    "   \n",
    "2 - Um relatório com as perguntas de negócio  \n",
    "1. Quem são as pessoas elegíveis para participar do programa de Insiders ?  \n",
    "2. Quantos clientes farão parte do grupo?  \n",
    "3. Quais as principais características desses clientes ?  \n",
    "4. Qual a porcentagem de contribuição do faturamento, vinda do Insiders ?  \n",
    "5. Qual a expectativa de faturamento desse grupo para os próximos meses ?  \n",
    "6. Quais as condições para uma pessoa ser elegível ao Insiders ?  \n",
    "7. Quais as condições para uma pessoa ser removida do Insiders ?  \n",
    "8. Qual a garantia que o programa Insiders é melhor que o restante da base ?  \n",
    "9. Quais ações o time de marketing pode realizar para aumentar o faturamento?  "
   ]
  },
  {
   "cell_type": "markdown",
   "id": "1d21083d",
   "metadata": {},
   "source": [
    "### Tasks (tarefas)"
   ]
  },
  {
   "cell_type": "markdown",
   "id": "dddf3466",
   "metadata": {},
   "source": [
    "1. Quem são as pessoas elegíveis para participar do programa de Insiders ?  \n",
    " - O que é ser elegível? O que são clientes de maior valor?\n",
    " - Faturamento  \n",
    "     - Alto ticket médio (média de compra)\n",
    "     - Alto LTV (long time value) (soma dos gastos)\n",
    "     - Baixa recência (tempo que ficou sem comprar)\n",
    "     - Alto basket size (tamanho da sua cesta de compras)\n",
    "     - Baixa probabilidade de churn\n",
    "     - Alta previsão de LTV\n",
    "     - Alta propensão de compra\n",
    " \n",
    " - Custo\n",
    "     - Baixa taxa de devolução\n",
    "     \n",
    " - Experiência de compra\n",
    "     - Média alta de avaliação\n",
    "     \n",
    "2. Quantos clientes farão parte do grupo? \n",
    " - Número total de clientes\n",
    " - Porcentagem do grupo insiders\n",
    " \n",
    "3. Quais as principais características desses clientes ?  \n",
    " - Escrever características do cliente\n",
    "     - Idade\n",
    "     - Localização\n",
    "     \n",
    " - Escrever características do consumo\n",
    "     - Atributos da clusterização\n",
    "     \n",
    "4. Qual a porcentagem de contribuição do faturamento, vinda do Insiders ?  \n",
    " - Faturamento total do ano\n",
    " - Faturamento total dos insiders\n",
    " \n",
    "5. Qual a expectativa de faturamento desse grupo para os próximos meses ? \n",
    " - LTV do grupo insiders\n",
    " - Análise de cohort (Marcar uma pessoa no tempo e analisar)\n",
    " \n",
    "6. Quais as condições para uma pessoa ser elegível ao Insiders ?  \n",
    " - Definir a periodicidade (1 mês, 3 meses)\n",
    " - A pessoa precisa ser similar ou parecida com uma do grupo\n",
    " \n",
    "7. Quais as condições para uma pessoa ser removida do Insiders ?  \n",
    " - Definir a periodicidade (1 mês, 3 meses)\n",
    " - A pessoa precisa ser desimilar ou não parecida com uma do grupo\n",
    " \n",
    "8. Qual a garantia que o programa Insiders é melhor que o restante da base ?  \n",
    " - Teste A/B\n",
    " - Teste A/B bayesiano\n",
    " - Teste de hipóteses\n",
    " \n",
    "9. Quais ações o time de marketing pode realizar para aumentar o faturamento? \n",
    " - Desconto\n",
    " - Preferência de compra\n",
    " - Frete\n",
    " - Visita na empresa"
   ]
  },
  {
   "cell_type": "markdown",
   "id": "cb9dff14",
   "metadata": {},
   "source": [
    "# 1 - Imports"
   ]
  },
  {
   "cell_type": "code",
   "execution_count": 129,
   "id": "f138a925",
   "metadata": {
    "ExecuteTime": {
     "end_time": "2022-07-14T01:01:47.739766Z",
     "start_time": "2022-07-14T01:01:47.710888Z"
    }
   },
   "outputs": [],
   "source": [
    "import inflection\n",
    "import pandas as pd\n",
    "import numpy as np\n",
    "import seaborn as sns\n",
    "import matplotlib.pyplot as plt\n",
    "import plotly.express as px\n",
    "from dataprep.eda import create_report\n",
    "from pycorrcat.pycorrcat import corr_matrix\n",
    "from IPython.display import HTML\n",
    "from warnings import filterwarnings\n",
    "from sklearn.preprocessing import StandardScaler\n",
    "from sklearn.cluster import KMeans\n",
    "from sklearn.metrics import silhouette_score\n",
    "from yellowbrick.cluster import KElbowVisualizer, SilhouetteVisualizer\n",
    "import umap.umap_ as umap"
   ]
  },
  {
   "cell_type": "markdown",
   "id": "9d62fb2b",
   "metadata": {},
   "source": [
    "## 1.1 - Funções"
   ]
  },
  {
   "cell_type": "code",
   "execution_count": 2,
   "id": "7ad0ed6e",
   "metadata": {
    "ExecuteTime": {
     "end_time": "2022-07-13T23:41:17.616213Z",
     "start_time": "2022-07-13T23:41:17.524840Z"
    }
   },
   "outputs": [
    {
     "name": "stdout",
     "output_type": "stream",
     "text": [
      "%pylab is deprecated, use %matplotlib inline and import the required libraries.\n",
      "Populating the interactive namespace from numpy and matplotlib\n"
     ]
    },
    {
     "data": {
      "text/html": [
       "<style>.container { width:100% !important; }</style>"
      ],
      "text/plain": [
       "<IPython.core.display.HTML object>"
      ]
     },
     "metadata": {},
     "output_type": "display_data"
    }
   ],
   "source": [
    "def jupyter_settings():\n",
    "    %matplotlib inline\n",
    "    %pylab inline\n",
    "    \n",
    "    filterwarnings('ignore')\n",
    "    \n",
    "    #pd.set_option('display.float_format', lambda x: '%.2f' % x)\n",
    "    \n",
    "    plt.style.use( 'ggplot')\n",
    "    plt.rcParams['figure.figsize'] = [24, 9]\n",
    "    plt.rcParams['font.size'] = 24\n",
    "    \n",
    "    display( HTML( '<style>.container { width:100% !important; }</style>') )\n",
    "    pd.options.display.max_columns = None\n",
    "    pd.options.display.max_rows = None\n",
    "    pd.set_option( 'display.expand_frame_repr', False )\n",
    "    \n",
    "    sns.set()\n",
    "    \n",
    "jupyter_settings()\n",
    "\n",
    "# Função\n",
    "def kde(var):\n",
    "    '''Função para a seção 5.1.3 - Análise univariada da variável categórica'''\n",
    "    aux = df4.sort_values(var)\n",
    "    aux = aux[var].unique()\n",
    "    for e in aux:\n",
    "        sns.kdeplot(df5[df5[var] == e]['sales'], label=e, shade=True)\n",
    "        plt.ticklabel_format(style='plain', axis='y')\n",
    "        \n",
    "# kde('store_type')"
   ]
  },
  {
   "cell_type": "markdown",
   "id": "4f2cdb74",
   "metadata": {},
   "source": [
    "## 1.2 - Cargando os dados"
   ]
  },
  {
   "cell_type": "code",
   "execution_count": 3,
   "id": "b140d32e",
   "metadata": {
    "ExecuteTime": {
     "end_time": "2022-07-13T23:41:19.777700Z",
     "start_time": "2022-07-13T23:41:17.624752Z"
    }
   },
   "outputs": [],
   "source": [
    "df = pd.read_csv('../data/raw/Ecommerce.csv', encoding='latin-1')\n",
    "\n",
    "# Deletar coluna extra\n",
    "df.drop('Unnamed: 8', axis=1, inplace=True)"
   ]
  },
  {
   "cell_type": "code",
   "execution_count": 4,
   "id": "325d76b7",
   "metadata": {
    "ExecuteTime": {
     "end_time": "2022-07-13T23:41:19.852378Z",
     "start_time": "2022-07-13T23:41:19.783898Z"
    }
   },
   "outputs": [
    {
     "data": {
      "text/html": [
       "<div>\n",
       "<style scoped>\n",
       "    .dataframe tbody tr th:only-of-type {\n",
       "        vertical-align: middle;\n",
       "    }\n",
       "\n",
       "    .dataframe tbody tr th {\n",
       "        vertical-align: top;\n",
       "    }\n",
       "\n",
       "    .dataframe thead th {\n",
       "        text-align: right;\n",
       "    }\n",
       "</style>\n",
       "<table border=\"1\" class=\"dataframe\">\n",
       "  <thead>\n",
       "    <tr style=\"text-align: right;\">\n",
       "      <th></th>\n",
       "      <th>InvoiceNo</th>\n",
       "      <th>StockCode</th>\n",
       "      <th>Description</th>\n",
       "      <th>Quantity</th>\n",
       "      <th>InvoiceDate</th>\n",
       "      <th>UnitPrice</th>\n",
       "      <th>CustomerID</th>\n",
       "      <th>Country</th>\n",
       "    </tr>\n",
       "  </thead>\n",
       "  <tbody>\n",
       "    <tr>\n",
       "      <th>0</th>\n",
       "      <td>536365</td>\n",
       "      <td>85123A</td>\n",
       "      <td>WHITE HANGING HEART T-LIGHT HOLDER</td>\n",
       "      <td>6</td>\n",
       "      <td>29-Nov-16</td>\n",
       "      <td>2.55</td>\n",
       "      <td>17850.0</td>\n",
       "      <td>United Kingdom</td>\n",
       "    </tr>\n",
       "    <tr>\n",
       "      <th>1</th>\n",
       "      <td>536365</td>\n",
       "      <td>71053</td>\n",
       "      <td>WHITE METAL LANTERN</td>\n",
       "      <td>6</td>\n",
       "      <td>29-Nov-16</td>\n",
       "      <td>3.39</td>\n",
       "      <td>17850.0</td>\n",
       "      <td>United Kingdom</td>\n",
       "    </tr>\n",
       "    <tr>\n",
       "      <th>2</th>\n",
       "      <td>536365</td>\n",
       "      <td>84406B</td>\n",
       "      <td>CREAM CUPID HEARTS COAT HANGER</td>\n",
       "      <td>8</td>\n",
       "      <td>29-Nov-16</td>\n",
       "      <td>2.75</td>\n",
       "      <td>17850.0</td>\n",
       "      <td>United Kingdom</td>\n",
       "    </tr>\n",
       "    <tr>\n",
       "      <th>3</th>\n",
       "      <td>536365</td>\n",
       "      <td>84029G</td>\n",
       "      <td>KNITTED UNION FLAG HOT WATER BOTTLE</td>\n",
       "      <td>6</td>\n",
       "      <td>29-Nov-16</td>\n",
       "      <td>3.39</td>\n",
       "      <td>17850.0</td>\n",
       "      <td>United Kingdom</td>\n",
       "    </tr>\n",
       "    <tr>\n",
       "      <th>4</th>\n",
       "      <td>536365</td>\n",
       "      <td>84029E</td>\n",
       "      <td>RED WOOLLY HOTTIE WHITE HEART.</td>\n",
       "      <td>6</td>\n",
       "      <td>29-Nov-16</td>\n",
       "      <td>3.39</td>\n",
       "      <td>17850.0</td>\n",
       "      <td>United Kingdom</td>\n",
       "    </tr>\n",
       "  </tbody>\n",
       "</table>\n",
       "</div>"
      ],
      "text/plain": [
       "  InvoiceNo StockCode                          Description  Quantity InvoiceDate  UnitPrice  CustomerID         Country\n",
       "0    536365    85123A   WHITE HANGING HEART T-LIGHT HOLDER         6   29-Nov-16       2.55     17850.0  United Kingdom\n",
       "1    536365     71053                  WHITE METAL LANTERN         6   29-Nov-16       3.39     17850.0  United Kingdom\n",
       "2    536365    84406B       CREAM CUPID HEARTS COAT HANGER         8   29-Nov-16       2.75     17850.0  United Kingdom\n",
       "3    536365    84029G  KNITTED UNION FLAG HOT WATER BOTTLE         6   29-Nov-16       3.39     17850.0  United Kingdom\n",
       "4    536365    84029E       RED WOOLLY HOTTIE WHITE HEART.         6   29-Nov-16       3.39     17850.0  United Kingdom"
      ]
     },
     "execution_count": 4,
     "metadata": {},
     "output_type": "execute_result"
    }
   ],
   "source": [
    "df.head()"
   ]
  },
  {
   "cell_type": "markdown",
   "id": "6440b31a",
   "metadata": {},
   "source": [
    "# 2 - Descrição dos dados"
   ]
  },
  {
   "cell_type": "code",
   "execution_count": 5,
   "id": "910c5869",
   "metadata": {
    "ExecuteTime": {
     "end_time": "2022-07-13T23:41:19.955179Z",
     "start_time": "2022-07-13T23:41:19.871969Z"
    }
   },
   "outputs": [],
   "source": [
    "df2 = df.copy()"
   ]
  },
  {
   "cell_type": "markdown",
   "id": "d126be64",
   "metadata": {},
   "source": [
    "## 2.1 - Dimensão do dataset"
   ]
  },
  {
   "cell_type": "code",
   "execution_count": 6,
   "id": "2851b54d",
   "metadata": {
    "ExecuteTime": {
     "end_time": "2022-07-13T23:41:19.976189Z",
     "start_time": "2022-07-13T23:41:19.963571Z"
    }
   },
   "outputs": [
    {
     "name": "stdout",
     "output_type": "stream",
     "text": [
      "Quantidade de linhas: 541909\n",
      "Quantidade de colunas: 8\n"
     ]
    }
   ],
   "source": [
    "print(f'Quantidade de linhas: {df2.shape[0]}')\n",
    "print(f'Quantidade de colunas: {df2.shape[1]}')"
   ]
  },
  {
   "cell_type": "markdown",
   "id": "91e0656c",
   "metadata": {},
   "source": [
    "## 2.2 - Renomear as colunas"
   ]
  },
  {
   "cell_type": "code",
   "execution_count": 7,
   "id": "430d4c4e",
   "metadata": {
    "ExecuteTime": {
     "end_time": "2022-07-13T23:41:20.002788Z",
     "start_time": "2022-07-13T23:41:19.983752Z"
    }
   },
   "outputs": [],
   "source": [
    "old_cols = df2.columns\n",
    "\n",
    "snakecase = lambda x:inflection.underscore(x)\n",
    "\n",
    "new_cols = list(map(snakecase, old_cols))\n",
    "\n",
    "df2.columns = new_cols"
   ]
  },
  {
   "cell_type": "markdown",
   "id": "99df0233",
   "metadata": {},
   "source": [
    "## 2.3 - Tipos dos dados"
   ]
  },
  {
   "cell_type": "code",
   "execution_count": 8,
   "id": "72472eae",
   "metadata": {
    "ExecuteTime": {
     "end_time": "2022-07-13T23:41:20.028937Z",
     "start_time": "2022-07-13T23:41:20.010823Z"
    }
   },
   "outputs": [
    {
     "data": {
      "text/plain": [
       "invoice_no       object\n",
       "stock_code       object\n",
       "description      object\n",
       "quantity          int64\n",
       "invoice_date     object\n",
       "unit_price      float64\n",
       "customer_id     float64\n",
       "country          object\n",
       "dtype: object"
      ]
     },
     "execution_count": 8,
     "metadata": {},
     "output_type": "execute_result"
    }
   ],
   "source": [
    "df2.dtypes"
   ]
  },
  {
   "cell_type": "markdown",
   "id": "fb515522",
   "metadata": {
    "ExecuteTime": {
     "end_time": "2022-05-30T21:38:15.961050Z",
     "start_time": "2022-05-30T21:38:15.952443Z"
    }
   },
   "source": [
    "## 2.4 - Dados nulos"
   ]
  },
  {
   "cell_type": "code",
   "execution_count": 9,
   "id": "255b9d0b",
   "metadata": {
    "ExecuteTime": {
     "end_time": "2022-07-13T23:41:20.970355Z",
     "start_time": "2022-07-13T23:41:20.037301Z"
    }
   },
   "outputs": [
    {
     "data": {
      "text/plain": [
       "invoice_no           0\n",
       "stock_code           0\n",
       "description       1454\n",
       "quantity             0\n",
       "invoice_date         0\n",
       "unit_price           0\n",
       "customer_id     135080\n",
       "country              0\n",
       "dtype: int64"
      ]
     },
     "execution_count": 9,
     "metadata": {},
     "output_type": "execute_result"
    }
   ],
   "source": [
    "df2.isnull().sum()"
   ]
  },
  {
   "cell_type": "markdown",
   "id": "57b9c94a",
   "metadata": {},
   "source": [
    "## 2.5 - Correção dados nulos"
   ]
  },
  {
   "cell_type": "code",
   "execution_count": 10,
   "id": "9ee27441",
   "metadata": {
    "ExecuteTime": {
     "end_time": "2022-07-13T23:41:51.437921Z",
     "start_time": "2022-07-13T23:41:51.331756Z"
    }
   },
   "outputs": [],
   "source": [
    "df_null = df2[df2['customer_id'].isnull()]\n",
    "df_not_null = df2[~df2['customer_id'].isnull()]"
   ]
  },
  {
   "cell_type": "code",
   "execution_count": 11,
   "id": "a3317b54",
   "metadata": {
    "ExecuteTime": {
     "end_time": "2022-07-13T23:41:51.845148Z",
     "start_time": "2022-07-13T23:41:51.826800Z"
    }
   },
   "outputs": [
    {
     "data": {
      "text/plain": [
       "(406829, 8)"
      ]
     },
     "execution_count": 11,
     "metadata": {},
     "output_type": "execute_result"
    }
   ],
   "source": [
    "df_not_null.shape"
   ]
  },
  {
   "cell_type": "code",
   "execution_count": 12,
   "id": "0bd57b5e",
   "metadata": {
    "ExecuteTime": {
     "end_time": "2022-07-13T23:41:52.758598Z",
     "start_time": "2022-07-13T23:41:52.745976Z"
    }
   },
   "outputs": [
    {
     "data": {
      "text/plain": [
       "(135080, 8)"
      ]
     },
     "execution_count": 12,
     "metadata": {},
     "output_type": "execute_result"
    }
   ],
   "source": [
    "df_null.shape"
   ]
  },
  {
   "cell_type": "code",
   "execution_count": 13,
   "id": "1f61d5c5",
   "metadata": {
    "ExecuteTime": {
     "end_time": "2022-07-13T23:42:13.990267Z",
     "start_time": "2022-07-13T23:42:13.980345Z"
    }
   },
   "outputs": [],
   "source": [
    "invoice_null = df_null['invoice_no'].tolist()"
   ]
  },
  {
   "cell_type": "code",
   "execution_count": 14,
   "id": "ea1ce584",
   "metadata": {
    "ExecuteTime": {
     "end_time": "2022-07-13T23:42:14.637873Z",
     "start_time": "2022-07-13T23:42:14.563206Z"
    }
   },
   "outputs": [
    {
     "data": {
      "text/html": [
       "<div>\n",
       "<style scoped>\n",
       "    .dataframe tbody tr th:only-of-type {\n",
       "        vertical-align: middle;\n",
       "    }\n",
       "\n",
       "    .dataframe tbody tr th {\n",
       "        vertical-align: top;\n",
       "    }\n",
       "\n",
       "    .dataframe thead th {\n",
       "        text-align: right;\n",
       "    }\n",
       "</style>\n",
       "<table border=\"1\" class=\"dataframe\">\n",
       "  <thead>\n",
       "    <tr style=\"text-align: right;\">\n",
       "      <th></th>\n",
       "      <th>invoice_no</th>\n",
       "      <th>stock_code</th>\n",
       "      <th>description</th>\n",
       "      <th>quantity</th>\n",
       "      <th>invoice_date</th>\n",
       "      <th>unit_price</th>\n",
       "      <th>customer_id</th>\n",
       "      <th>country</th>\n",
       "    </tr>\n",
       "  </thead>\n",
       "  <tbody>\n",
       "  </tbody>\n",
       "</table>\n",
       "</div>"
      ],
      "text/plain": [
       "Empty DataFrame\n",
       "Columns: [invoice_no, stock_code, description, quantity, invoice_date, unit_price, customer_id, country]\n",
       "Index: []"
      ]
     },
     "execution_count": 14,
     "metadata": {},
     "output_type": "execute_result"
    }
   ],
   "source": [
    "# Verificar se há o mesmo invoice_no nos dataframe\n",
    "df_not_null[df_not_null['invoice_no'].isin(invoice_null)]"
   ]
  },
  {
   "cell_type": "markdown",
   "id": "e985c89b",
   "metadata": {},
   "source": [
    "Não há o mesmo invoice_no em ambos os casos"
   ]
  },
  {
   "cell_type": "code",
   "execution_count": 15,
   "id": "dff30a2b",
   "metadata": {
    "ExecuteTime": {
     "end_time": "2022-07-13T23:48:36.533550Z",
     "start_time": "2022-07-13T23:48:36.153615Z"
    }
   },
   "outputs": [],
   "source": [
    "df_backup = pd.DataFrame(df_null['invoice_no'].drop_duplicates())\n",
    "df_backup['customer_id'] = np.arange(19000, 19000 + len(df_backup))\n",
    "\n",
    "# Merge\n",
    "df2 = pd.merge(df2, df_backup, on='invoice_no', how='left')\n",
    "\n",
    "# coalesce\n",
    "df2['customer_id'] = df2['customer_id_x'].combine_first(df2['customer_id_y'])\n",
    "df2.drop(['customer_id_x', 'customer_id_y'], axis=1, inplace=True)"
   ]
  },
  {
   "cell_type": "code",
   "execution_count": 16,
   "id": "e1b18fc2",
   "metadata": {
    "ExecuteTime": {
     "end_time": "2022-07-13T23:48:37.405508Z",
     "start_time": "2022-07-13T23:48:36.540683Z"
    }
   },
   "outputs": [
    {
     "data": {
      "text/plain": [
       "invoice_no         0\n",
       "stock_code         0\n",
       "description     1454\n",
       "quantity           0\n",
       "invoice_date       0\n",
       "unit_price         0\n",
       "country            0\n",
       "customer_id        0\n",
       "dtype: int64"
      ]
     },
     "execution_count": 16,
     "metadata": {},
     "output_type": "execute_result"
    }
   ],
   "source": [
    "df2.isnull().sum()"
   ]
  },
  {
   "cell_type": "code",
   "execution_count": 17,
   "id": "884dac0b",
   "metadata": {
    "ExecuteTime": {
     "end_time": "2022-07-13T23:48:37.428604Z",
     "start_time": "2022-07-13T23:48:37.414672Z"
    }
   },
   "outputs": [
    {
     "data": {
      "text/plain": [
       "(541909, 8)"
      ]
     },
     "execution_count": 17,
     "metadata": {},
     "output_type": "execute_result"
    }
   ],
   "source": [
    "df2.shape"
   ]
  },
  {
   "cell_type": "markdown",
   "id": "423ce809",
   "metadata": {},
   "source": [
    "## 2.6 - Alteração dos tipos dos dados"
   ]
  },
  {
   "cell_type": "code",
   "execution_count": 18,
   "id": "2ba05511",
   "metadata": {
    "ExecuteTime": {
     "end_time": "2022-07-13T23:48:37.678520Z",
     "start_time": "2022-07-13T23:48:37.491332Z"
    }
   },
   "outputs": [],
   "source": [
    "# Invoice date\n",
    "df2['invoice_date'] = pd.to_datetime(df2['invoice_date'], format='%d-%b-%y')\n",
    "\n",
    "# Customer ID\n",
    "df2['customer_id'] = df2['customer_id'].astype(int)"
   ]
  },
  {
   "cell_type": "code",
   "execution_count": 19,
   "id": "fa02cfd7",
   "metadata": {
    "ExecuteTime": {
     "end_time": "2022-07-13T23:48:38.638507Z",
     "start_time": "2022-07-13T23:48:38.605609Z"
    },
    "scrolled": true
   },
   "outputs": [
    {
     "data": {
      "text/html": [
       "<div>\n",
       "<style scoped>\n",
       "    .dataframe tbody tr th:only-of-type {\n",
       "        vertical-align: middle;\n",
       "    }\n",
       "\n",
       "    .dataframe tbody tr th {\n",
       "        vertical-align: top;\n",
       "    }\n",
       "\n",
       "    .dataframe thead th {\n",
       "        text-align: right;\n",
       "    }\n",
       "</style>\n",
       "<table border=\"1\" class=\"dataframe\">\n",
       "  <thead>\n",
       "    <tr style=\"text-align: right;\">\n",
       "      <th></th>\n",
       "      <th>invoice_no</th>\n",
       "      <th>stock_code</th>\n",
       "      <th>description</th>\n",
       "      <th>quantity</th>\n",
       "      <th>invoice_date</th>\n",
       "      <th>unit_price</th>\n",
       "      <th>country</th>\n",
       "      <th>customer_id</th>\n",
       "    </tr>\n",
       "  </thead>\n",
       "  <tbody>\n",
       "    <tr>\n",
       "      <th>0</th>\n",
       "      <td>536365</td>\n",
       "      <td>85123A</td>\n",
       "      <td>WHITE HANGING HEART T-LIGHT HOLDER</td>\n",
       "      <td>6</td>\n",
       "      <td>2016-11-29</td>\n",
       "      <td>2.55</td>\n",
       "      <td>United Kingdom</td>\n",
       "      <td>17850</td>\n",
       "    </tr>\n",
       "    <tr>\n",
       "      <th>1</th>\n",
       "      <td>536365</td>\n",
       "      <td>71053</td>\n",
       "      <td>WHITE METAL LANTERN</td>\n",
       "      <td>6</td>\n",
       "      <td>2016-11-29</td>\n",
       "      <td>3.39</td>\n",
       "      <td>United Kingdom</td>\n",
       "      <td>17850</td>\n",
       "    </tr>\n",
       "    <tr>\n",
       "      <th>2</th>\n",
       "      <td>536365</td>\n",
       "      <td>84406B</td>\n",
       "      <td>CREAM CUPID HEARTS COAT HANGER</td>\n",
       "      <td>8</td>\n",
       "      <td>2016-11-29</td>\n",
       "      <td>2.75</td>\n",
       "      <td>United Kingdom</td>\n",
       "      <td>17850</td>\n",
       "    </tr>\n",
       "    <tr>\n",
       "      <th>3</th>\n",
       "      <td>536365</td>\n",
       "      <td>84029G</td>\n",
       "      <td>KNITTED UNION FLAG HOT WATER BOTTLE</td>\n",
       "      <td>6</td>\n",
       "      <td>2016-11-29</td>\n",
       "      <td>3.39</td>\n",
       "      <td>United Kingdom</td>\n",
       "      <td>17850</td>\n",
       "    </tr>\n",
       "    <tr>\n",
       "      <th>4</th>\n",
       "      <td>536365</td>\n",
       "      <td>84029E</td>\n",
       "      <td>RED WOOLLY HOTTIE WHITE HEART.</td>\n",
       "      <td>6</td>\n",
       "      <td>2016-11-29</td>\n",
       "      <td>3.39</td>\n",
       "      <td>United Kingdom</td>\n",
       "      <td>17850</td>\n",
       "    </tr>\n",
       "  </tbody>\n",
       "</table>\n",
       "</div>"
      ],
      "text/plain": [
       "  invoice_no stock_code                          description  quantity invoice_date  unit_price         country  customer_id\n",
       "0     536365     85123A   WHITE HANGING HEART T-LIGHT HOLDER         6   2016-11-29        2.55  United Kingdom        17850\n",
       "1     536365      71053                  WHITE METAL LANTERN         6   2016-11-29        3.39  United Kingdom        17850\n",
       "2     536365     84406B       CREAM CUPID HEARTS COAT HANGER         8   2016-11-29        2.75  United Kingdom        17850\n",
       "3     536365     84029G  KNITTED UNION FLAG HOT WATER BOTTLE         6   2016-11-29        3.39  United Kingdom        17850\n",
       "4     536365     84029E       RED WOOLLY HOTTIE WHITE HEART.         6   2016-11-29        3.39  United Kingdom        17850"
      ]
     },
     "execution_count": 19,
     "metadata": {},
     "output_type": "execute_result"
    }
   ],
   "source": [
    "df2.head()"
   ]
  },
  {
   "cell_type": "markdown",
   "id": "3485f34e",
   "metadata": {},
   "source": [
    "## 2.7 - Análise descritiva"
   ]
  },
  {
   "cell_type": "code",
   "execution_count": 20,
   "id": "1fb3ad04",
   "metadata": {
    "ExecuteTime": {
     "end_time": "2022-07-13T23:48:39.562997Z",
     "start_time": "2022-07-13T23:48:39.550784Z"
    }
   },
   "outputs": [],
   "source": [
    "num = df2.select_dtypes(include=['int64', 'float64'])\n",
    "cat = df2.select_dtypes(exclude=['int64', 'float64', 'datetime64[ns]'])"
   ]
  },
  {
   "cell_type": "markdown",
   "id": "53bab581",
   "metadata": {
    "ExecuteTime": {
     "end_time": "2022-05-30T21:49:04.935665Z",
     "start_time": "2022-05-30T21:49:04.927012Z"
    }
   },
   "source": [
    "### 2.7.1 - Análise numérica"
   ]
  },
  {
   "cell_type": "code",
   "execution_count": 21,
   "id": "ff89fa34",
   "metadata": {
    "ExecuteTime": {
     "end_time": "2022-07-13T23:48:40.598433Z",
     "start_time": "2022-07-13T23:48:40.345369Z"
    }
   },
   "outputs": [
    {
     "data": {
      "text/html": [
       "<div>\n",
       "<style scoped>\n",
       "    .dataframe tbody tr th:only-of-type {\n",
       "        vertical-align: middle;\n",
       "    }\n",
       "\n",
       "    .dataframe tbody tr th {\n",
       "        vertical-align: top;\n",
       "    }\n",
       "\n",
       "    .dataframe thead th {\n",
       "        text-align: right;\n",
       "    }\n",
       "</style>\n",
       "<table border=\"1\" class=\"dataframe\">\n",
       "  <thead>\n",
       "    <tr style=\"text-align: right;\">\n",
       "      <th></th>\n",
       "      <th>mean</th>\n",
       "      <th>median</th>\n",
       "      <th>min</th>\n",
       "      <th>max</th>\n",
       "      <th>range</th>\n",
       "      <th>std</th>\n",
       "      <th>skew</th>\n",
       "      <th>kurtosis</th>\n",
       "    </tr>\n",
       "  </thead>\n",
       "  <tbody>\n",
       "    <tr>\n",
       "      <th>quantity</th>\n",
       "      <td>9.552250</td>\n",
       "      <td>3.00</td>\n",
       "      <td>-80995.00</td>\n",
       "      <td>80995.0</td>\n",
       "      <td>161990.00</td>\n",
       "      <td>218.081158</td>\n",
       "      <td>-0.264076</td>\n",
       "      <td>119769.160031</td>\n",
       "    </tr>\n",
       "    <tr>\n",
       "      <th>unit_price</th>\n",
       "      <td>4.611114</td>\n",
       "      <td>2.08</td>\n",
       "      <td>-11062.06</td>\n",
       "      <td>38970.0</td>\n",
       "      <td>50032.06</td>\n",
       "      <td>96.759853</td>\n",
       "      <td>186.506972</td>\n",
       "      <td>59005.719097</td>\n",
       "    </tr>\n",
       "    <tr>\n",
       "      <th>customer_id</th>\n",
       "      <td>16688.840453</td>\n",
       "      <td>16249.00</td>\n",
       "      <td>12346.00</td>\n",
       "      <td>22709.0</td>\n",
       "      <td>10363.00</td>\n",
       "      <td>2911.411352</td>\n",
       "      <td>0.487449</td>\n",
       "      <td>-0.804287</td>\n",
       "    </tr>\n",
       "  </tbody>\n",
       "</table>\n",
       "</div>"
      ],
      "text/plain": [
       "                     mean    median       min      max      range          std        skew       kurtosis\n",
       "quantity         9.552250      3.00 -80995.00  80995.0  161990.00   218.081158   -0.264076  119769.160031\n",
       "unit_price       4.611114      2.08 -11062.06  38970.0   50032.06    96.759853  186.506972   59005.719097\n",
       "customer_id  16688.840453  16249.00  12346.00  22709.0   10363.00  2911.411352    0.487449      -0.804287"
      ]
     },
     "execution_count": 21,
     "metadata": {},
     "output_type": "execute_result"
    }
   ],
   "source": [
    "# média, desvio padrão, mínimo, quartis, máximo\n",
    "desc = num.describe().T\n",
    "desc.drop('count', axis=1, inplace=True)\n",
    "\n",
    "# mediana\n",
    "median = pd.DataFrame(num.apply(np.median))\n",
    "desc.insert(2,'median', median[0].values)\n",
    "\n",
    "# range\n",
    "range_ = pd.DataFrame( num.apply( lambda x: x.max() - x.min() ) )\n",
    "desc.insert(len(desc.columns),'range', range_[0].values)\n",
    "\n",
    "# trocando o desvio padrão de posição\n",
    "std = desc.pop('std')\n",
    "desc.insert(len(desc.columns),'std', std)\n",
    "\n",
    "# skewness\n",
    "skew = pd.DataFrame(num.apply(lambda x: x.skew()))\n",
    "desc.insert(len(desc.columns),'skew', skew[0].values)\n",
    "\n",
    "# kurtosis\n",
    "kurtosis = pd.DataFrame(num.apply(lambda x: x.kurtosis()))\n",
    "desc.insert(len(desc.columns),'kurtosis', kurtosis[0].values)\n",
    "\n",
    "# Remover 25%, 50% e 75%\n",
    "desc.drop(['25%', '50%', '75%'], axis=1, inplace=True)\n",
    "\n",
    "desc"
   ]
  },
  {
   "cell_type": "markdown",
   "id": "2996ca96",
   "metadata": {},
   "source": [
    "### 2.7.2 - Análise categórica"
   ]
  },
  {
   "cell_type": "code",
   "execution_count": 22,
   "id": "d17e18d2",
   "metadata": {
    "ExecuteTime": {
     "end_time": "2022-07-13T23:48:41.640261Z",
     "start_time": "2022-07-13T23:48:41.147327Z"
    },
    "code_folding": []
   },
   "outputs": [
    {
     "name": "stdout",
     "output_type": "stream",
     "text": [
      "- A coluna invoice_no tem 25900 valores únicos: ['536365' '536366' '536367' ... '581585' '581586' '581587']\n",
      "- A coluna stock_code tem 4070 valores únicos: ['85123A' '71053' '84406B' ... '90214U' '47591b' '23843']\n",
      "- A coluna description tem 4224 valores únicos: ['WHITE HANGING HEART T-LIGHT HOLDER' 'WHITE METAL LANTERN'\n",
      " 'CREAM CUPID HEARTS COAT HANGER' ... 'lost'\n",
      " 'CREAM HANGING HEART T-LIGHT HOLDER' 'PAPER CRAFT , LITTLE BIRDIE']\n",
      "- A coluna country tem 38 valores únicos: ['United Kingdom' 'France' 'Australia' 'Netherlands' 'Germany' 'Norway'\n",
      " 'EIRE' 'Switzerland' 'Spain' 'Poland' 'Portugal' 'Italy' 'Belgium'\n",
      " 'Lithuania' 'Japan' 'Iceland' 'Channel Islands' 'Denmark' 'Cyprus'\n",
      " 'Sweden' 'Austria' 'Israel' 'Finland' 'Bahrain' 'Greece' 'Hong Kong'\n",
      " 'Singapore' 'Lebanon' 'United Arab Emirates' 'Saudi Arabia'\n",
      " 'Czech Republic' 'Canada' 'Unspecified' 'Brazil' 'USA'\n",
      " 'European Community' 'Malta' 'RSA']\n"
     ]
    }
   ],
   "source": [
    "for x in cat.columns:\n",
    "    print(f'- A coluna {x} tem {cat[x].unique().shape[0]} valores únicos: {cat[x].unique()}')"
   ]
  },
  {
   "cell_type": "markdown",
   "id": "f5b186e1",
   "metadata": {
    "ExecuteTime": {
     "end_time": "2022-07-02T15:42:55.844309Z",
     "start_time": "2022-07-02T15:42:55.833888Z"
    }
   },
   "source": [
    "#### invoice_no"
   ]
  },
  {
   "cell_type": "code",
   "execution_count": 23,
   "id": "4226c176",
   "metadata": {
    "ExecuteTime": {
     "end_time": "2022-07-13T23:48:41.970748Z",
     "start_time": "2022-07-13T23:48:41.867117Z"
    }
   },
   "outputs": [
    {
     "data": {
      "text/plain": [
       "573585    1114\n",
       "581219     749\n",
       "581492     731\n",
       "580729     721\n",
       "558475     705\n",
       "Name: invoice_no, dtype: int64"
      ]
     },
     "execution_count": 23,
     "metadata": {},
     "output_type": "execute_result"
    }
   ],
   "source": [
    "cat['invoice_no'].value_counts().head()"
   ]
  },
  {
   "cell_type": "code",
   "execution_count": 24,
   "id": "57b84a08",
   "metadata": {
    "ExecuteTime": {
     "end_time": "2022-07-13T23:48:43.749031Z",
     "start_time": "2022-07-13T23:48:42.165678Z"
    },
    "cell_style": "center"
   },
   "outputs": [
    {
     "data": {
      "text/html": [
       "<div>\n",
       "<style scoped>\n",
       "    .dataframe tbody tr th:only-of-type {\n",
       "        vertical-align: middle;\n",
       "    }\n",
       "\n",
       "    .dataframe tbody tr th {\n",
       "        vertical-align: top;\n",
       "    }\n",
       "\n",
       "    .dataframe thead th {\n",
       "        text-align: right;\n",
       "    }\n",
       "</style>\n",
       "<table border=\"1\" class=\"dataframe\">\n",
       "  <thead>\n",
       "    <tr style=\"text-align: right;\">\n",
       "      <th></th>\n",
       "      <th>invoice_no</th>\n",
       "      <th>stock_code</th>\n",
       "      <th>description</th>\n",
       "      <th>quantity</th>\n",
       "      <th>invoice_date</th>\n",
       "      <th>unit_price</th>\n",
       "      <th>country</th>\n",
       "      <th>customer_id</th>\n",
       "    </tr>\n",
       "  </thead>\n",
       "  <tbody>\n",
       "    <tr>\n",
       "      <th>141</th>\n",
       "      <td>C536379</td>\n",
       "      <td>D</td>\n",
       "      <td>Discount</td>\n",
       "      <td>-1</td>\n",
       "      <td>2016-11-29</td>\n",
       "      <td>27.50</td>\n",
       "      <td>United Kingdom</td>\n",
       "      <td>14527</td>\n",
       "    </tr>\n",
       "    <tr>\n",
       "      <th>154</th>\n",
       "      <td>C536383</td>\n",
       "      <td>35004C</td>\n",
       "      <td>SET OF 3 COLOURED  FLYING DUCKS</td>\n",
       "      <td>-1</td>\n",
       "      <td>2016-11-29</td>\n",
       "      <td>4.65</td>\n",
       "      <td>United Kingdom</td>\n",
       "      <td>15311</td>\n",
       "    </tr>\n",
       "    <tr>\n",
       "      <th>235</th>\n",
       "      <td>C536391</td>\n",
       "      <td>22556</td>\n",
       "      <td>PLASTERS IN TIN CIRCUS PARADE</td>\n",
       "      <td>-12</td>\n",
       "      <td>2016-11-29</td>\n",
       "      <td>1.65</td>\n",
       "      <td>United Kingdom</td>\n",
       "      <td>17548</td>\n",
       "    </tr>\n",
       "    <tr>\n",
       "      <th>236</th>\n",
       "      <td>C536391</td>\n",
       "      <td>21984</td>\n",
       "      <td>PACK OF 12 PINK PAISLEY TISSUES</td>\n",
       "      <td>-24</td>\n",
       "      <td>2016-11-29</td>\n",
       "      <td>0.29</td>\n",
       "      <td>United Kingdom</td>\n",
       "      <td>17548</td>\n",
       "    </tr>\n",
       "    <tr>\n",
       "      <th>237</th>\n",
       "      <td>C536391</td>\n",
       "      <td>21983</td>\n",
       "      <td>PACK OF 12 BLUE PAISLEY TISSUES</td>\n",
       "      <td>-24</td>\n",
       "      <td>2016-11-29</td>\n",
       "      <td>0.29</td>\n",
       "      <td>United Kingdom</td>\n",
       "      <td>17548</td>\n",
       "    </tr>\n",
       "    <tr>\n",
       "      <th>238</th>\n",
       "      <td>C536391</td>\n",
       "      <td>21980</td>\n",
       "      <td>PACK OF 12 RED RETROSPOT TISSUES</td>\n",
       "      <td>-24</td>\n",
       "      <td>2016-11-29</td>\n",
       "      <td>0.29</td>\n",
       "      <td>United Kingdom</td>\n",
       "      <td>17548</td>\n",
       "    </tr>\n",
       "    <tr>\n",
       "      <th>239</th>\n",
       "      <td>C536391</td>\n",
       "      <td>21484</td>\n",
       "      <td>CHICK GREY HOT WATER BOTTLE</td>\n",
       "      <td>-12</td>\n",
       "      <td>2016-11-29</td>\n",
       "      <td>3.45</td>\n",
       "      <td>United Kingdom</td>\n",
       "      <td>17548</td>\n",
       "    </tr>\n",
       "    <tr>\n",
       "      <th>240</th>\n",
       "      <td>C536391</td>\n",
       "      <td>22557</td>\n",
       "      <td>PLASTERS IN TIN VINTAGE PAISLEY</td>\n",
       "      <td>-12</td>\n",
       "      <td>2016-11-29</td>\n",
       "      <td>1.65</td>\n",
       "      <td>United Kingdom</td>\n",
       "      <td>17548</td>\n",
       "    </tr>\n",
       "    <tr>\n",
       "      <th>241</th>\n",
       "      <td>C536391</td>\n",
       "      <td>22553</td>\n",
       "      <td>PLASTERS IN TIN SKULLS</td>\n",
       "      <td>-24</td>\n",
       "      <td>2016-11-29</td>\n",
       "      <td>1.65</td>\n",
       "      <td>United Kingdom</td>\n",
       "      <td>17548</td>\n",
       "    </tr>\n",
       "    <tr>\n",
       "      <th>939</th>\n",
       "      <td>C536506</td>\n",
       "      <td>22960</td>\n",
       "      <td>JAM MAKING SET WITH JARS</td>\n",
       "      <td>-6</td>\n",
       "      <td>2016-11-29</td>\n",
       "      <td>4.25</td>\n",
       "      <td>United Kingdom</td>\n",
       "      <td>17897</td>\n",
       "    </tr>\n",
       "  </tbody>\n",
       "</table>\n",
       "</div>"
      ],
      "text/plain": [
       "    invoice_no stock_code                        description  quantity invoice_date  unit_price         country  customer_id\n",
       "141    C536379          D                           Discount        -1   2016-11-29       27.50  United Kingdom        14527\n",
       "154    C536383     35004C    SET OF 3 COLOURED  FLYING DUCKS        -1   2016-11-29        4.65  United Kingdom        15311\n",
       "235    C536391      22556     PLASTERS IN TIN CIRCUS PARADE        -12   2016-11-29        1.65  United Kingdom        17548\n",
       "236    C536391      21984   PACK OF 12 PINK PAISLEY TISSUES        -24   2016-11-29        0.29  United Kingdom        17548\n",
       "237    C536391      21983   PACK OF 12 BLUE PAISLEY TISSUES        -24   2016-11-29        0.29  United Kingdom        17548\n",
       "238    C536391      21980  PACK OF 12 RED RETROSPOT TISSUES        -24   2016-11-29        0.29  United Kingdom        17548\n",
       "239    C536391      21484        CHICK GREY HOT WATER BOTTLE       -12   2016-11-29        3.45  United Kingdom        17548\n",
       "240    C536391      22557   PLASTERS IN TIN VINTAGE PAISLEY        -12   2016-11-29        1.65  United Kingdom        17548\n",
       "241    C536391      22553             PLASTERS IN TIN SKULLS       -24   2016-11-29        1.65  United Kingdom        17548\n",
       "939    C536506      22960           JAM MAKING SET WITH JARS        -6   2016-11-29        4.25  United Kingdom        17897"
      ]
     },
     "execution_count": 24,
     "metadata": {},
     "output_type": "execute_result"
    }
   ],
   "source": [
    "df_invoice_cat = df2.loc[df2['invoice_no'].apply(lambda x: bool(re.search( '[^0-9]+', x))), :]\n",
    "df_invoice_cat.head(10)"
   ]
  },
  {
   "cell_type": "code",
   "execution_count": 25,
   "id": "292793e9",
   "metadata": {
    "ExecuteTime": {
     "end_time": "2022-07-13T23:48:43.783344Z",
     "start_time": "2022-07-13T23:48:43.760194Z"
    }
   },
   "outputs": [
    {
     "data": {
      "text/plain": [
       "9291"
      ]
     },
     "execution_count": 25,
     "metadata": {},
     "output_type": "execute_result"
    }
   ],
   "source": [
    "len(df_invoice_cat)"
   ]
  },
  {
   "cell_type": "code",
   "execution_count": 26,
   "id": "e31976a7",
   "metadata": {
    "ExecuteTime": {
     "end_time": "2022-07-13T23:48:43.844731Z",
     "start_time": "2022-07-13T23:48:43.796082Z"
    }
   },
   "outputs": [
    {
     "data": {
      "text/plain": [
       "9288"
      ]
     },
     "execution_count": 26,
     "metadata": {},
     "output_type": "execute_result"
    }
   ],
   "source": [
    "len(df_invoice_cat[df_invoice_cat['quantity'] < 0 ])"
   ]
  },
  {
   "cell_type": "markdown",
   "id": "d11140ba",
   "metadata": {},
   "source": [
    "<b>Os invoices_no com a letra \"C\" na frente, possuem quantidades negativas</b>"
   ]
  },
  {
   "cell_type": "code",
   "execution_count": 27,
   "id": "02228fc4",
   "metadata": {
    "ExecuteTime": {
     "end_time": "2022-07-13T23:48:45.873386Z",
     "start_time": "2022-07-13T23:48:44.468704Z"
    }
   },
   "outputs": [
    {
     "data": {
      "text/html": [
       "<div>\n",
       "<style scoped>\n",
       "    .dataframe tbody tr th:only-of-type {\n",
       "        vertical-align: middle;\n",
       "    }\n",
       "\n",
       "    .dataframe tbody tr th {\n",
       "        vertical-align: top;\n",
       "    }\n",
       "\n",
       "    .dataframe thead th {\n",
       "        text-align: right;\n",
       "    }\n",
       "</style>\n",
       "<table border=\"1\" class=\"dataframe\">\n",
       "  <thead>\n",
       "    <tr style=\"text-align: right;\">\n",
       "      <th></th>\n",
       "      <th>invoice_no</th>\n",
       "      <th>stock_code</th>\n",
       "      <th>description</th>\n",
       "      <th>quantity</th>\n",
       "      <th>invoice_date</th>\n",
       "      <th>unit_price</th>\n",
       "      <th>country</th>\n",
       "      <th>customer_id</th>\n",
       "    </tr>\n",
       "  </thead>\n",
       "  <tbody>\n",
       "    <tr>\n",
       "      <th>0</th>\n",
       "      <td>536365</td>\n",
       "      <td>85123A</td>\n",
       "      <td>WHITE HANGING HEART T-LIGHT HOLDER</td>\n",
       "      <td>6</td>\n",
       "      <td>2016-11-29</td>\n",
       "      <td>2.55</td>\n",
       "      <td>United Kingdom</td>\n",
       "      <td>17850</td>\n",
       "    </tr>\n",
       "    <tr>\n",
       "      <th>1</th>\n",
       "      <td>536365</td>\n",
       "      <td>71053</td>\n",
       "      <td>WHITE METAL LANTERN</td>\n",
       "      <td>6</td>\n",
       "      <td>2016-11-29</td>\n",
       "      <td>3.39</td>\n",
       "      <td>United Kingdom</td>\n",
       "      <td>17850</td>\n",
       "    </tr>\n",
       "    <tr>\n",
       "      <th>2</th>\n",
       "      <td>536365</td>\n",
       "      <td>84406B</td>\n",
       "      <td>CREAM CUPID HEARTS COAT HANGER</td>\n",
       "      <td>8</td>\n",
       "      <td>2016-11-29</td>\n",
       "      <td>2.75</td>\n",
       "      <td>United Kingdom</td>\n",
       "      <td>17850</td>\n",
       "    </tr>\n",
       "    <tr>\n",
       "      <th>3</th>\n",
       "      <td>536365</td>\n",
       "      <td>84029G</td>\n",
       "      <td>KNITTED UNION FLAG HOT WATER BOTTLE</td>\n",
       "      <td>6</td>\n",
       "      <td>2016-11-29</td>\n",
       "      <td>3.39</td>\n",
       "      <td>United Kingdom</td>\n",
       "      <td>17850</td>\n",
       "    </tr>\n",
       "    <tr>\n",
       "      <th>4</th>\n",
       "      <td>536365</td>\n",
       "      <td>84029E</td>\n",
       "      <td>RED WOOLLY HOTTIE WHITE HEART.</td>\n",
       "      <td>6</td>\n",
       "      <td>2016-11-29</td>\n",
       "      <td>3.39</td>\n",
       "      <td>United Kingdom</td>\n",
       "      <td>17850</td>\n",
       "    </tr>\n",
       "    <tr>\n",
       "      <th>5</th>\n",
       "      <td>536365</td>\n",
       "      <td>22752</td>\n",
       "      <td>SET 7 BABUSHKA NESTING BOXES</td>\n",
       "      <td>2</td>\n",
       "      <td>2016-11-29</td>\n",
       "      <td>7.65</td>\n",
       "      <td>United Kingdom</td>\n",
       "      <td>17850</td>\n",
       "    </tr>\n",
       "    <tr>\n",
       "      <th>6</th>\n",
       "      <td>536365</td>\n",
       "      <td>21730</td>\n",
       "      <td>GLASS STAR FROSTED T-LIGHT HOLDER</td>\n",
       "      <td>6</td>\n",
       "      <td>2016-11-29</td>\n",
       "      <td>4.25</td>\n",
       "      <td>United Kingdom</td>\n",
       "      <td>17850</td>\n",
       "    </tr>\n",
       "    <tr>\n",
       "      <th>7</th>\n",
       "      <td>536366</td>\n",
       "      <td>22633</td>\n",
       "      <td>HAND WARMER UNION JACK</td>\n",
       "      <td>6</td>\n",
       "      <td>2016-11-29</td>\n",
       "      <td>1.85</td>\n",
       "      <td>United Kingdom</td>\n",
       "      <td>17850</td>\n",
       "    </tr>\n",
       "    <tr>\n",
       "      <th>8</th>\n",
       "      <td>536366</td>\n",
       "      <td>22632</td>\n",
       "      <td>HAND WARMER RED POLKA DOT</td>\n",
       "      <td>6</td>\n",
       "      <td>2016-11-29</td>\n",
       "      <td>1.85</td>\n",
       "      <td>United Kingdom</td>\n",
       "      <td>17850</td>\n",
       "    </tr>\n",
       "    <tr>\n",
       "      <th>9</th>\n",
       "      <td>536367</td>\n",
       "      <td>84879</td>\n",
       "      <td>ASSORTED COLOUR BIRD ORNAMENT</td>\n",
       "      <td>32</td>\n",
       "      <td>2016-11-29</td>\n",
       "      <td>1.69</td>\n",
       "      <td>United Kingdom</td>\n",
       "      <td>13047</td>\n",
       "    </tr>\n",
       "  </tbody>\n",
       "</table>\n",
       "</div>"
      ],
      "text/plain": [
       "  invoice_no stock_code                          description  quantity invoice_date  unit_price         country  customer_id\n",
       "0     536365     85123A   WHITE HANGING HEART T-LIGHT HOLDER         6   2016-11-29        2.55  United Kingdom        17850\n",
       "1     536365      71053                  WHITE METAL LANTERN         6   2016-11-29        3.39  United Kingdom        17850\n",
       "2     536365     84406B       CREAM CUPID HEARTS COAT HANGER         8   2016-11-29        2.75  United Kingdom        17850\n",
       "3     536365     84029G  KNITTED UNION FLAG HOT WATER BOTTLE         6   2016-11-29        3.39  United Kingdom        17850\n",
       "4     536365     84029E       RED WOOLLY HOTTIE WHITE HEART.         6   2016-11-29        3.39  United Kingdom        17850\n",
       "5     536365      22752         SET 7 BABUSHKA NESTING BOXES         2   2016-11-29        7.65  United Kingdom        17850\n",
       "6     536365      21730    GLASS STAR FROSTED T-LIGHT HOLDER         6   2016-11-29        4.25  United Kingdom        17850\n",
       "7     536366      22633               HAND WARMER UNION JACK         6   2016-11-29        1.85  United Kingdom        17850\n",
       "8     536366      22632            HAND WARMER RED POLKA DOT         6   2016-11-29        1.85  United Kingdom        17850\n",
       "9     536367      84879        ASSORTED COLOUR BIRD ORNAMENT        32   2016-11-29        1.69  United Kingdom        13047"
      ]
     },
     "execution_count": 27,
     "metadata": {},
     "output_type": "execute_result"
    }
   ],
   "source": [
    "df_invoice_num = df2.loc[df2['invoice_no'].apply(lambda x: bool(re.search('[0-9]+', x))), :]\n",
    "df_invoice_num.head(10)"
   ]
  },
  {
   "cell_type": "code",
   "execution_count": 28,
   "id": "8cde6a00",
   "metadata": {
    "ExecuteTime": {
     "end_time": "2022-07-13T23:48:45.895838Z",
     "start_time": "2022-07-13T23:48:45.882140Z"
    },
    "hide_input": false
   },
   "outputs": [
    {
     "data": {
      "text/plain": [
       "541909"
      ]
     },
     "execution_count": 28,
     "metadata": {},
     "output_type": "execute_result"
    }
   ],
   "source": [
    "len(df_invoice_num)"
   ]
  },
  {
   "cell_type": "markdown",
   "id": "612ea113",
   "metadata": {
    "ExecuteTime": {
     "end_time": "2022-07-02T15:42:55.844309Z",
     "start_time": "2022-07-02T15:42:55.833888Z"
    }
   },
   "source": [
    "#### stock_code"
   ]
  },
  {
   "cell_type": "code",
   "execution_count": 29,
   "id": "111944c5",
   "metadata": {
    "ExecuteTime": {
     "end_time": "2022-07-13T23:48:48.476455Z",
     "start_time": "2022-07-13T23:48:47.229040Z"
    }
   },
   "outputs": [
    {
     "data": {
      "text/html": [
       "<div>\n",
       "<style scoped>\n",
       "    .dataframe tbody tr th:only-of-type {\n",
       "        vertical-align: middle;\n",
       "    }\n",
       "\n",
       "    .dataframe tbody tr th {\n",
       "        vertical-align: top;\n",
       "    }\n",
       "\n",
       "    .dataframe thead th {\n",
       "        text-align: right;\n",
       "    }\n",
       "</style>\n",
       "<table border=\"1\" class=\"dataframe\">\n",
       "  <thead>\n",
       "    <tr style=\"text-align: right;\">\n",
       "      <th></th>\n",
       "      <th>invoice_no</th>\n",
       "      <th>stock_code</th>\n",
       "      <th>description</th>\n",
       "      <th>quantity</th>\n",
       "      <th>invoice_date</th>\n",
       "      <th>unit_price</th>\n",
       "      <th>country</th>\n",
       "      <th>customer_id</th>\n",
       "    </tr>\n",
       "  </thead>\n",
       "  <tbody>\n",
       "    <tr>\n",
       "      <th>0</th>\n",
       "      <td>536365</td>\n",
       "      <td>85123A</td>\n",
       "      <td>WHITE HANGING HEART T-LIGHT HOLDER</td>\n",
       "      <td>6</td>\n",
       "      <td>2016-11-29</td>\n",
       "      <td>2.55</td>\n",
       "      <td>United Kingdom</td>\n",
       "      <td>17850</td>\n",
       "    </tr>\n",
       "    <tr>\n",
       "      <th>2</th>\n",
       "      <td>536365</td>\n",
       "      <td>84406B</td>\n",
       "      <td>CREAM CUPID HEARTS COAT HANGER</td>\n",
       "      <td>8</td>\n",
       "      <td>2016-11-29</td>\n",
       "      <td>2.75</td>\n",
       "      <td>United Kingdom</td>\n",
       "      <td>17850</td>\n",
       "    </tr>\n",
       "    <tr>\n",
       "      <th>3</th>\n",
       "      <td>536365</td>\n",
       "      <td>84029G</td>\n",
       "      <td>KNITTED UNION FLAG HOT WATER BOTTLE</td>\n",
       "      <td>6</td>\n",
       "      <td>2016-11-29</td>\n",
       "      <td>3.39</td>\n",
       "      <td>United Kingdom</td>\n",
       "      <td>17850</td>\n",
       "    </tr>\n",
       "    <tr>\n",
       "      <th>4</th>\n",
       "      <td>536365</td>\n",
       "      <td>84029E</td>\n",
       "      <td>RED WOOLLY HOTTIE WHITE HEART.</td>\n",
       "      <td>6</td>\n",
       "      <td>2016-11-29</td>\n",
       "      <td>3.39</td>\n",
       "      <td>United Kingdom</td>\n",
       "      <td>17850</td>\n",
       "    </tr>\n",
       "    <tr>\n",
       "      <th>45</th>\n",
       "      <td>536370</td>\n",
       "      <td>POST</td>\n",
       "      <td>POSTAGE</td>\n",
       "      <td>3</td>\n",
       "      <td>2016-11-29</td>\n",
       "      <td>18.00</td>\n",
       "      <td>France</td>\n",
       "      <td>12583</td>\n",
       "    </tr>\n",
       "    <tr>\n",
       "      <th>49</th>\n",
       "      <td>536373</td>\n",
       "      <td>85123A</td>\n",
       "      <td>WHITE HANGING HEART T-LIGHT HOLDER</td>\n",
       "      <td>6</td>\n",
       "      <td>2016-11-29</td>\n",
       "      <td>2.55</td>\n",
       "      <td>United Kingdom</td>\n",
       "      <td>17850</td>\n",
       "    </tr>\n",
       "    <tr>\n",
       "      <th>51</th>\n",
       "      <td>536373</td>\n",
       "      <td>84406B</td>\n",
       "      <td>CREAM CUPID HEARTS COAT HANGER</td>\n",
       "      <td>8</td>\n",
       "      <td>2016-11-29</td>\n",
       "      <td>2.75</td>\n",
       "      <td>United Kingdom</td>\n",
       "      <td>17850</td>\n",
       "    </tr>\n",
       "    <tr>\n",
       "      <th>60</th>\n",
       "      <td>536373</td>\n",
       "      <td>82494L</td>\n",
       "      <td>WOODEN FRAME ANTIQUE WHITE</td>\n",
       "      <td>6</td>\n",
       "      <td>2016-11-29</td>\n",
       "      <td>2.55</td>\n",
       "      <td>United Kingdom</td>\n",
       "      <td>17850</td>\n",
       "    </tr>\n",
       "    <tr>\n",
       "      <th>61</th>\n",
       "      <td>536373</td>\n",
       "      <td>84029G</td>\n",
       "      <td>KNITTED UNION FLAG HOT WATER BOTTLE</td>\n",
       "      <td>6</td>\n",
       "      <td>2016-11-29</td>\n",
       "      <td>3.39</td>\n",
       "      <td>United Kingdom</td>\n",
       "      <td>17850</td>\n",
       "    </tr>\n",
       "    <tr>\n",
       "      <th>62</th>\n",
       "      <td>536373</td>\n",
       "      <td>84029E</td>\n",
       "      <td>RED WOOLLY HOTTIE WHITE HEART.</td>\n",
       "      <td>6</td>\n",
       "      <td>2016-11-29</td>\n",
       "      <td>3.39</td>\n",
       "      <td>United Kingdom</td>\n",
       "      <td>17850</td>\n",
       "    </tr>\n",
       "  </tbody>\n",
       "</table>\n",
       "</div>"
      ],
      "text/plain": [
       "   invoice_no stock_code                          description  quantity invoice_date  unit_price         country  customer_id\n",
       "0      536365     85123A   WHITE HANGING HEART T-LIGHT HOLDER         6   2016-11-29        2.55  United Kingdom        17850\n",
       "2      536365     84406B       CREAM CUPID HEARTS COAT HANGER         8   2016-11-29        2.75  United Kingdom        17850\n",
       "3      536365     84029G  KNITTED UNION FLAG HOT WATER BOTTLE         6   2016-11-29        3.39  United Kingdom        17850\n",
       "4      536365     84029E       RED WOOLLY HOTTIE WHITE HEART.         6   2016-11-29        3.39  United Kingdom        17850\n",
       "45     536370       POST                              POSTAGE         3   2016-11-29       18.00          France        12583\n",
       "49     536373     85123A   WHITE HANGING HEART T-LIGHT HOLDER         6   2016-11-29        2.55  United Kingdom        17850\n",
       "51     536373     84406B       CREAM CUPID HEARTS COAT HANGER         8   2016-11-29        2.75  United Kingdom        17850\n",
       "60     536373     82494L          WOODEN FRAME ANTIQUE WHITE          6   2016-11-29        2.55  United Kingdom        17850\n",
       "61     536373     84029G  KNITTED UNION FLAG HOT WATER BOTTLE         6   2016-11-29        3.39  United Kingdom        17850\n",
       "62     536373     84029E       RED WOOLLY HOTTIE WHITE HEART.         6   2016-11-29        3.39  United Kingdom        17850"
      ]
     },
     "execution_count": 29,
     "metadata": {},
     "output_type": "execute_result"
    }
   ],
   "source": [
    "# Stock code com letras e números\n",
    "df2.loc[df2['stock_code'].apply(lambda x: bool(re.search('[A-Z]$', x))), :].head(10)"
   ]
  },
  {
   "cell_type": "code",
   "execution_count": 30,
   "id": "0b4e78da",
   "metadata": {
    "ExecuteTime": {
     "end_time": "2022-07-13T23:48:50.251365Z",
     "start_time": "2022-07-13T23:48:48.891334Z"
    }
   },
   "outputs": [
    {
     "data": {
      "text/plain": [
       "array(['POST', 'D', 'DOT', 'M', 'S', 'AMAZONFEE', 'm', 'DCGSSBOY',\n",
       "       'DCGSSGIRL', 'PADS', 'B', 'CRUK'], dtype=object)"
      ]
     },
     "execution_count": 30,
     "metadata": {},
     "output_type": "execute_result"
    }
   ],
   "source": [
    "# Stock code apenas com letras\n",
    "df2.loc[df2['stock_code'].apply(lambda x: bool(re.search( '^[a-zA-Z]+$', x))), 'stock_code'].unique()"
   ]
  },
  {
   "cell_type": "code",
   "execution_count": 31,
   "id": "77879f6f",
   "metadata": {
    "ExecuteTime": {
     "end_time": "2022-07-13T23:48:51.986233Z",
     "start_time": "2022-07-13T23:48:50.260498Z"
    }
   },
   "outputs": [
    {
     "data": {
      "text/html": [
       "<div>\n",
       "<style scoped>\n",
       "    .dataframe tbody tr th:only-of-type {\n",
       "        vertical-align: middle;\n",
       "    }\n",
       "\n",
       "    .dataframe tbody tr th {\n",
       "        vertical-align: top;\n",
       "    }\n",
       "\n",
       "    .dataframe thead th {\n",
       "        text-align: right;\n",
       "    }\n",
       "</style>\n",
       "<table border=\"1\" class=\"dataframe\">\n",
       "  <thead>\n",
       "    <tr style=\"text-align: right;\">\n",
       "      <th></th>\n",
       "      <th>invoice_no</th>\n",
       "      <th>stock_code</th>\n",
       "      <th>description</th>\n",
       "      <th>quantity</th>\n",
       "      <th>invoice_date</th>\n",
       "      <th>unit_price</th>\n",
       "      <th>country</th>\n",
       "      <th>customer_id</th>\n",
       "    </tr>\n",
       "  </thead>\n",
       "  <tbody>\n",
       "    <tr>\n",
       "      <th>1</th>\n",
       "      <td>536365</td>\n",
       "      <td>71053</td>\n",
       "      <td>WHITE METAL LANTERN</td>\n",
       "      <td>6</td>\n",
       "      <td>2016-11-29</td>\n",
       "      <td>3.39</td>\n",
       "      <td>United Kingdom</td>\n",
       "      <td>17850</td>\n",
       "    </tr>\n",
       "    <tr>\n",
       "      <th>5</th>\n",
       "      <td>536365</td>\n",
       "      <td>22752</td>\n",
       "      <td>SET 7 BABUSHKA NESTING BOXES</td>\n",
       "      <td>2</td>\n",
       "      <td>2016-11-29</td>\n",
       "      <td>7.65</td>\n",
       "      <td>United Kingdom</td>\n",
       "      <td>17850</td>\n",
       "    </tr>\n",
       "    <tr>\n",
       "      <th>6</th>\n",
       "      <td>536365</td>\n",
       "      <td>21730</td>\n",
       "      <td>GLASS STAR FROSTED T-LIGHT HOLDER</td>\n",
       "      <td>6</td>\n",
       "      <td>2016-11-29</td>\n",
       "      <td>4.25</td>\n",
       "      <td>United Kingdom</td>\n",
       "      <td>17850</td>\n",
       "    </tr>\n",
       "    <tr>\n",
       "      <th>7</th>\n",
       "      <td>536366</td>\n",
       "      <td>22633</td>\n",
       "      <td>HAND WARMER UNION JACK</td>\n",
       "      <td>6</td>\n",
       "      <td>2016-11-29</td>\n",
       "      <td>1.85</td>\n",
       "      <td>United Kingdom</td>\n",
       "      <td>17850</td>\n",
       "    </tr>\n",
       "    <tr>\n",
       "      <th>8</th>\n",
       "      <td>536366</td>\n",
       "      <td>22632</td>\n",
       "      <td>HAND WARMER RED POLKA DOT</td>\n",
       "      <td>6</td>\n",
       "      <td>2016-11-29</td>\n",
       "      <td>1.85</td>\n",
       "      <td>United Kingdom</td>\n",
       "      <td>17850</td>\n",
       "    </tr>\n",
       "    <tr>\n",
       "      <th>9</th>\n",
       "      <td>536367</td>\n",
       "      <td>84879</td>\n",
       "      <td>ASSORTED COLOUR BIRD ORNAMENT</td>\n",
       "      <td>32</td>\n",
       "      <td>2016-11-29</td>\n",
       "      <td>1.69</td>\n",
       "      <td>United Kingdom</td>\n",
       "      <td>13047</td>\n",
       "    </tr>\n",
       "    <tr>\n",
       "      <th>10</th>\n",
       "      <td>536367</td>\n",
       "      <td>22745</td>\n",
       "      <td>POPPY'S PLAYHOUSE BEDROOM</td>\n",
       "      <td>6</td>\n",
       "      <td>2016-11-29</td>\n",
       "      <td>2.10</td>\n",
       "      <td>United Kingdom</td>\n",
       "      <td>13047</td>\n",
       "    </tr>\n",
       "    <tr>\n",
       "      <th>11</th>\n",
       "      <td>536367</td>\n",
       "      <td>22748</td>\n",
       "      <td>POPPY'S PLAYHOUSE KITCHEN</td>\n",
       "      <td>6</td>\n",
       "      <td>2016-11-29</td>\n",
       "      <td>2.10</td>\n",
       "      <td>United Kingdom</td>\n",
       "      <td>13047</td>\n",
       "    </tr>\n",
       "    <tr>\n",
       "      <th>12</th>\n",
       "      <td>536367</td>\n",
       "      <td>22749</td>\n",
       "      <td>FELTCRAFT PRINCESS CHARLOTTE DOLL</td>\n",
       "      <td>8</td>\n",
       "      <td>2016-11-29</td>\n",
       "      <td>3.75</td>\n",
       "      <td>United Kingdom</td>\n",
       "      <td>13047</td>\n",
       "    </tr>\n",
       "    <tr>\n",
       "      <th>13</th>\n",
       "      <td>536367</td>\n",
       "      <td>22310</td>\n",
       "      <td>IVORY KNITTED MUG COSY</td>\n",
       "      <td>6</td>\n",
       "      <td>2016-11-29</td>\n",
       "      <td>1.65</td>\n",
       "      <td>United Kingdom</td>\n",
       "      <td>13047</td>\n",
       "    </tr>\n",
       "  </tbody>\n",
       "</table>\n",
       "</div>"
      ],
      "text/plain": [
       "   invoice_no stock_code                        description  quantity invoice_date  unit_price         country  customer_id\n",
       "1      536365      71053                WHITE METAL LANTERN         6   2016-11-29        3.39  United Kingdom        17850\n",
       "5      536365      22752       SET 7 BABUSHKA NESTING BOXES         2   2016-11-29        7.65  United Kingdom        17850\n",
       "6      536365      21730  GLASS STAR FROSTED T-LIGHT HOLDER         6   2016-11-29        4.25  United Kingdom        17850\n",
       "7      536366      22633             HAND WARMER UNION JACK         6   2016-11-29        1.85  United Kingdom        17850\n",
       "8      536366      22632          HAND WARMER RED POLKA DOT         6   2016-11-29        1.85  United Kingdom        17850\n",
       "9      536367      84879      ASSORTED COLOUR BIRD ORNAMENT        32   2016-11-29        1.69  United Kingdom        13047\n",
       "10     536367      22745         POPPY'S PLAYHOUSE BEDROOM          6   2016-11-29        2.10  United Kingdom        13047\n",
       "11     536367      22748          POPPY'S PLAYHOUSE KITCHEN         6   2016-11-29        2.10  United Kingdom        13047\n",
       "12     536367      22749  FELTCRAFT PRINCESS CHARLOTTE DOLL         8   2016-11-29        3.75  United Kingdom        13047\n",
       "13     536367      22310            IVORY KNITTED MUG COSY          6   2016-11-29        1.65  United Kingdom        13047"
      ]
     },
     "execution_count": 31,
     "metadata": {},
     "output_type": "execute_result"
    }
   ],
   "source": [
    "# Stock code apeans com números\n",
    "df2.loc[df2['stock_code'].apply(lambda x: bool(re.search('[^a-zA-Z]$', x))), :].head(10)"
   ]
  },
  {
   "cell_type": "markdown",
   "id": "4ebf3a65",
   "metadata": {
    "ExecuteTime": {
     "end_time": "2022-07-02T15:42:55.844309Z",
     "start_time": "2022-07-02T15:42:55.833888Z"
    }
   },
   "source": [
    "#### description"
   ]
  },
  {
   "cell_type": "code",
   "execution_count": null,
   "id": "8237f226",
   "metadata": {},
   "outputs": [],
   "source": []
  },
  {
   "cell_type": "markdown",
   "id": "66520250",
   "metadata": {
    "ExecuteTime": {
     "end_time": "2022-07-02T15:42:55.844309Z",
     "start_time": "2022-07-02T15:42:55.833888Z"
    }
   },
   "source": [
    "#### country"
   ]
  },
  {
   "cell_type": "code",
   "execution_count": 32,
   "id": "3bb387e3",
   "metadata": {
    "ExecuteTime": {
     "end_time": "2022-07-13T23:48:52.158968Z",
     "start_time": "2022-07-13T23:48:51.994522Z"
    },
    "cell_style": "split"
   },
   "outputs": [
    {
     "data": {
      "text/plain": [
       "United Kingdom    495478\n",
       "Germany             9495\n",
       "France              8557\n",
       "EIRE                8196\n",
       "Spain               2533\n",
       "Name: country, dtype: int64"
      ]
     },
     "execution_count": 32,
     "metadata": {},
     "output_type": "execute_result"
    }
   ],
   "source": [
    "# Base total\n",
    "cat['country'].value_counts().head()"
   ]
  },
  {
   "cell_type": "code",
   "execution_count": 33,
   "id": "781728f4",
   "metadata": {
    "ExecuteTime": {
     "end_time": "2022-07-13T23:48:52.282728Z",
     "start_time": "2022-07-13T23:48:52.168939Z"
    },
    "cell_style": "split"
   },
   "outputs": [
    {
     "data": {
      "text/plain": [
       "United Kingdom    0.914320\n",
       "Germany           0.017521\n",
       "France            0.015790\n",
       "EIRE              0.015124\n",
       "Spain             0.004674\n",
       "Name: country, dtype: float64"
      ]
     },
     "execution_count": 33,
     "metadata": {},
     "output_type": "execute_result"
    }
   ],
   "source": [
    "# base total\n",
    "cat['country'].value_counts(normalize=True).head()"
   ]
  },
  {
   "cell_type": "code",
   "execution_count": 34,
   "id": "f59f73af",
   "metadata": {
    "ExecuteTime": {
     "end_time": "2022-07-13T23:48:53.084657Z",
     "start_time": "2022-07-13T23:48:52.900522Z"
    },
    "cell_style": "split"
   },
   "outputs": [
    {
     "data": {
      "text/html": [
       "<div>\n",
       "<style scoped>\n",
       "    .dataframe tbody tr th:only-of-type {\n",
       "        vertical-align: middle;\n",
       "    }\n",
       "\n",
       "    .dataframe tbody tr th {\n",
       "        vertical-align: top;\n",
       "    }\n",
       "\n",
       "    .dataframe thead th {\n",
       "        text-align: right;\n",
       "    }\n",
       "</style>\n",
       "<table border=\"1\" class=\"dataframe\">\n",
       "  <thead>\n",
       "    <tr style=\"text-align: right;\">\n",
       "      <th></th>\n",
       "      <th>country</th>\n",
       "      <th>customer_id</th>\n",
       "    </tr>\n",
       "  </thead>\n",
       "  <tbody>\n",
       "    <tr>\n",
       "      <th>36</th>\n",
       "      <td>United Kingdom</td>\n",
       "      <td>7587</td>\n",
       "    </tr>\n",
       "    <tr>\n",
       "      <th>14</th>\n",
       "      <td>Germany</td>\n",
       "      <td>95</td>\n",
       "    </tr>\n",
       "    <tr>\n",
       "      <th>13</th>\n",
       "      <td>France</td>\n",
       "      <td>90</td>\n",
       "    </tr>\n",
       "    <tr>\n",
       "      <th>10</th>\n",
       "      <td>EIRE</td>\n",
       "      <td>44</td>\n",
       "    </tr>\n",
       "    <tr>\n",
       "      <th>31</th>\n",
       "      <td>Spain</td>\n",
       "      <td>31</td>\n",
       "    </tr>\n",
       "  </tbody>\n",
       "</table>\n",
       "</div>"
      ],
      "text/plain": [
       "           country  customer_id\n",
       "36  United Kingdom         7587\n",
       "14         Germany           95\n",
       "13          France           90\n",
       "10            EIRE           44\n",
       "31           Spain           31"
      ]
     },
     "execution_count": 34,
     "metadata": {},
     "output_type": "execute_result"
    }
   ],
   "source": [
    "# Sem country e customer_id duplicados\n",
    "aux = df2[['country', 'customer_id']].drop_duplicates()\n",
    "aux.groupby('country', as_index=False)['customer_id'].count().sort_values('customer_id', ascending=False).head()"
   ]
  },
  {
   "cell_type": "code",
   "execution_count": 35,
   "id": "7ce0b3d0",
   "metadata": {
    "ExecuteTime": {
     "end_time": "2022-07-13T23:48:53.247053Z",
     "start_time": "2022-07-13T23:48:53.225648Z"
    },
    "cell_style": "split"
   },
   "outputs": [
    {
     "data": {
      "text/plain": [
       "United Kingdom    0.937824\n",
       "Germany           0.011743\n",
       "France            0.011125\n",
       "EIRE              0.005439\n",
       "Spain             0.003832\n",
       "Name: country, dtype: float64"
      ]
     },
     "execution_count": 35,
     "metadata": {},
     "output_type": "execute_result"
    }
   ],
   "source": [
    "# Sem country e customer_id duplicados\n",
    "aux['country'].value_counts(normalize=True).head()"
   ]
  },
  {
   "cell_type": "markdown",
   "id": "011f1079",
   "metadata": {
    "cell_style": "center"
   },
   "source": [
    "### 2.7.3 - Análise temporal"
   ]
  },
  {
   "cell_type": "code",
   "execution_count": 36,
   "id": "6126f6cb",
   "metadata": {
    "ExecuteTime": {
     "end_time": "2022-07-13T23:48:54.267726Z",
     "start_time": "2022-07-13T23:48:54.246275Z"
    }
   },
   "outputs": [
    {
     "name": "stdout",
     "output_type": "stream",
     "text": [
      "A data mais antiga: 2016-11-29 00:00:00\n",
      "A data mais atual: 2017-12-07 00:00:00\n"
     ]
    }
   ],
   "source": [
    "old = df2['invoice_date'].min()\n",
    "new = df2['invoice_date'].max()\n",
    "print(f'A data mais antiga: {old}')\n",
    "print(f'A data mais atual: {new}')"
   ]
  },
  {
   "cell_type": "markdown",
   "id": "24cc4d1b",
   "metadata": {},
   "source": [
    "# 3 - Filtragem das variáveis"
   ]
  },
  {
   "cell_type": "code",
   "execution_count": 37,
   "id": "b3413e3c",
   "metadata": {
    "ExecuteTime": {
     "end_time": "2022-07-13T23:48:55.171838Z",
     "start_time": "2022-07-13T23:48:55.141031Z"
    }
   },
   "outputs": [],
   "source": [
    "df3 = df2.copy()"
   ]
  },
  {
   "cell_type": "code",
   "execution_count": 38,
   "id": "66bea9b6",
   "metadata": {
    "ExecuteTime": {
     "end_time": "2022-07-13T23:48:56.558824Z",
     "start_time": "2022-07-13T23:48:55.628951Z"
    }
   },
   "outputs": [],
   "source": [
    "# Valores acima de 0 centavos\n",
    "df3 = df3[df3['unit_price'] >= 0.04]\n",
    "\n",
    "# Removendo linhas que não são ID de produtos no stock_code\n",
    "df3 = df3[~df3['stock_code'].isin(['POST', 'D', 'DOT', 'M', 'S', 'AMAZONFEE', 'm', 'DCGSSBOY', 'DCGSSGIRL', 'PADS', 'B', 'CRUK'])]\n",
    "\n",
    "# Excluindo a coluna description\n",
    "df3.drop('description', axis=1, inplace=True)\n",
    "\n",
    "# Excluindo os países de união europeia e indefinido\n",
    "df3 = df3[~df3['country'].isin(['European Community', 'Unspecified'])]\n",
    "\n",
    "# Separando as quantidades negativas das positivas\n",
    "df3_devolucao = df3[df2['quantity'] < 0]\n",
    "df3_compra = df3[df2['quantity'] >= 0]"
   ]
  },
  {
   "cell_type": "markdown",
   "id": "f774adb6",
   "metadata": {},
   "source": [
    "# 4 - Feature engineering"
   ]
  },
  {
   "cell_type": "code",
   "execution_count": 39,
   "id": "cf39f254",
   "metadata": {
    "ExecuteTime": {
     "end_time": "2022-07-13T23:48:56.735600Z",
     "start_time": "2022-07-13T23:48:56.660518Z"
    }
   },
   "outputs": [],
   "source": [
    "df4 = df3.copy()"
   ]
  },
  {
   "cell_type": "markdown",
   "id": "7ceb6599",
   "metadata": {
    "ExecuteTime": {
     "end_time": "2022-05-30T21:53:47.632359Z",
     "start_time": "2022-05-30T21:53:47.624964Z"
    },
    "heading_collapsed": true
   },
   "source": [
    "## 4.1 - Mapa mental das hipóteses"
   ]
  },
  {
   "cell_type": "code",
   "execution_count": null,
   "id": "8442d0e9",
   "metadata": {
    "hidden": true
   },
   "outputs": [],
   "source": []
  },
  {
   "cell_type": "markdown",
   "id": "50bf82e3",
   "metadata": {
    "heading_collapsed": true
   },
   "source": [
    "## 4.2 - Criação das hipóteses"
   ]
  },
  {
   "cell_type": "code",
   "execution_count": null,
   "id": "ff68358f",
   "metadata": {
    "hidden": true
   },
   "outputs": [],
   "source": []
  },
  {
   "cell_type": "markdown",
   "id": "4fb07880",
   "metadata": {
    "heading_collapsed": true
   },
   "source": [
    "## 4.3 - Lista final das hipóteses"
   ]
  },
  {
   "cell_type": "code",
   "execution_count": null,
   "id": "93e8d4a3",
   "metadata": {
    "hidden": true
   },
   "outputs": [],
   "source": []
  },
  {
   "cell_type": "markdown",
   "id": "7647740c",
   "metadata": {},
   "source": [
    "## 4.4 - Feature engineering"
   ]
  },
  {
   "cell_type": "code",
   "execution_count": 149,
   "id": "914cd3f3",
   "metadata": {
    "ExecuteTime": {
     "end_time": "2022-07-14T01:24:02.691338Z",
     "start_time": "2022-07-14T01:24:02.620854Z"
    }
   },
   "outputs": [],
   "source": [
    "df_ref = df4.drop(['invoice_no', 'stock_code', 'quantity', 'invoice_date', 'unit_price', 'country'], axis=1).drop_duplicates(ignore_index=True)"
   ]
  },
  {
   "cell_type": "markdown",
   "id": "49b6545c",
   "metadata": {
    "slideshow": {
     "slide_type": "fragment"
    }
   },
   "source": [
    "### 4.4.1 - Gross Revenue"
   ]
  },
  {
   "cell_type": "code",
   "execution_count": 150,
   "id": "31eab3f1",
   "metadata": {
    "ExecuteTime": {
     "end_time": "2022-07-14T01:24:03.089029Z",
     "start_time": "2022-07-14T01:24:02.927593Z"
    }
   },
   "outputs": [
    {
     "data": {
      "text/plain": [
       "customer_id       0\n",
       "gross_revenue    91\n",
       "dtype: int64"
      ]
     },
     "execution_count": 150,
     "metadata": {},
     "output_type": "execute_result"
    }
   ],
   "source": [
    "# Gross Revenue ( Faturamento ) quantity * price\n",
    "df3_compra.loc[:, 'gross_revenue'] = df3_compra.loc[:, 'quantity'] * df3_compra.loc[:, 'unit_price']\n",
    "\n",
    "# Monetary\n",
    "df_monetary = df3_compra.loc[:, ['customer_id', 'gross_revenue']].groupby( 'customer_id' ).sum().reset_index()\n",
    "df_ref = pd.merge( df_ref, df_monetary, on='customer_id', how='left' )\n",
    "df_ref.isna().sum()"
   ]
  },
  {
   "cell_type": "markdown",
   "id": "46a5f74b",
   "metadata": {
    "slideshow": {
     "slide_type": "fragment"
    }
   },
   "source": [
    "### 4.4.2 - Recency - Dias da última compra"
   ]
  },
  {
   "cell_type": "code",
   "execution_count": 151,
   "id": "7c3331f8",
   "metadata": {
    "ExecuteTime": {
     "end_time": "2022-07-14T01:24:03.284840Z",
     "start_time": "2022-07-14T01:24:03.206643Z"
    }
   },
   "outputs": [
    {
     "data": {
      "text/plain": [
       "customer_id       0\n",
       "gross_revenue    91\n",
       "recency_days     91\n",
       "dtype: int64"
      ]
     },
     "execution_count": 151,
     "metadata": {},
     "output_type": "execute_result"
    }
   ],
   "source": [
    "# Recency - Last day purchase (dia da última compra)\n",
    "df_recency = df3_compra.loc[:, ['customer_id', 'invoice_date']].groupby( 'customer_id' ).max().reset_index()\n",
    "df_recency['recency_days'] = ( df3['invoice_date'].max() - df_recency['invoice_date'] ).dt.days\n",
    "df_recency = df_recency[['customer_id', 'recency_days']].copy()\n",
    "df_ref = pd.merge( df_ref, df_recency, on='customer_id', how='left' )\n",
    "df_ref.isna().sum()"
   ]
  },
  {
   "cell_type": "markdown",
   "id": "bdbe3b3f",
   "metadata": {
    "slideshow": {
     "slide_type": "fragment"
    }
   },
   "source": [
    "### 4.4.3 - Quantidade de compras"
   ]
  },
  {
   "cell_type": "code",
   "execution_count": 152,
   "id": "d3768710",
   "metadata": {
    "ExecuteTime": {
     "end_time": "2022-07-14T01:24:03.679189Z",
     "start_time": "2022-07-14T01:24:03.489095Z"
    }
   },
   "outputs": [
    {
     "data": {
      "text/plain": [
       "customer_id       0\n",
       "gross_revenue    91\n",
       "recency_days     91\n",
       "qtde_invoices    91\n",
       "dtype: int64"
      ]
     },
     "execution_count": 152,
     "metadata": {},
     "output_type": "execute_result"
    }
   ],
   "source": [
    "df_freq = df3_compra.loc[:, ['customer_id', 'invoice_no']].drop_duplicates().groupby( 'customer_id' ).count().reset_index().rename(columns={'invoice_no':'qtde_invoices'})\n",
    "df_ref = pd.merge( df_ref, df_freq, on='customer_id', how='left' )\n",
    "df_ref.isna().sum()"
   ]
  },
  {
   "cell_type": "markdown",
   "id": "fc3e31bb",
   "metadata": {
    "slideshow": {
     "slide_type": "fragment"
    }
   },
   "source": [
    "### 4.4.4 - Quantidade de itens comprados"
   ]
  },
  {
   "cell_type": "code",
   "execution_count": 153,
   "id": "45d4152e",
   "metadata": {
    "ExecuteTime": {
     "end_time": "2022-07-14T01:24:03.870351Z",
     "start_time": "2022-07-14T01:24:03.769984Z"
    }
   },
   "outputs": [
    {
     "data": {
      "text/plain": [
       "customer_id       0\n",
       "gross_revenue    91\n",
       "recency_days     91\n",
       "qtde_invoices    91\n",
       "qtde_items       91\n",
       "dtype: int64"
      ]
     },
     "execution_count": 153,
     "metadata": {},
     "output_type": "execute_result"
    }
   ],
   "source": [
    "df_qtd = df3_compra.loc[:, ['customer_id', 'quantity']].drop_duplicates().groupby( 'customer_id' ).sum().reset_index().rename(columns={'quantity':'qtde_items'})\n",
    "df_ref = pd.merge( df_ref, df_qtd, on='customer_id', how='left' )\n",
    "df_ref.isna().sum()"
   ]
  },
  {
   "cell_type": "markdown",
   "id": "72b389b1",
   "metadata": {
    "slideshow": {
     "slide_type": "fragment"
    }
   },
   "source": [
    "### 4.4.4 - Quantidade de produtos comprados"
   ]
  },
  {
   "cell_type": "code",
   "execution_count": 154,
   "id": "a6c58c58",
   "metadata": {
    "ExecuteTime": {
     "end_time": "2022-07-14T01:24:04.423004Z",
     "start_time": "2022-07-14T01:24:04.045378Z"
    }
   },
   "outputs": [
    {
     "data": {
      "text/plain": [
       "customer_id       0\n",
       "gross_revenue    91\n",
       "recency_days     91\n",
       "qtde_invoices    91\n",
       "qtde_items       91\n",
       "qtde_products    91\n",
       "dtype: int64"
      ]
     },
     "execution_count": 154,
     "metadata": {},
     "output_type": "execute_result"
    }
   ],
   "source": [
    "df_qtd = df3_compra.loc[:, ['customer_id', 'stock_code']].drop_duplicates().groupby( 'customer_id' ).count().reset_index().rename(columns={'stock_code':'qtde_products'})\n",
    "df_ref = pd.merge( df_ref, df_qtd, on='customer_id', how='left' )\n",
    "df_ref.isna().sum()"
   ]
  },
  {
   "cell_type": "markdown",
   "id": "bd0daf10",
   "metadata": {
    "slideshow": {
     "slide_type": "fragment"
    }
   },
   "source": [
    "### 4.4.5 - Ticket médio"
   ]
  },
  {
   "cell_type": "code",
   "execution_count": 155,
   "id": "2b19eb67",
   "metadata": {
    "ExecuteTime": {
     "end_time": "2022-07-14T01:24:04.502577Z",
     "start_time": "2022-07-14T01:24:04.432272Z"
    }
   },
   "outputs": [
    {
     "data": {
      "text/plain": [
       "customer_id       0\n",
       "gross_revenue    91\n",
       "recency_days     91\n",
       "qtde_invoices    91\n",
       "qtde_items       91\n",
       "qtde_products    91\n",
       "avg_ticket       91\n",
       "dtype: int64"
      ]
     },
     "execution_count": 155,
     "metadata": {},
     "output_type": "execute_result"
    }
   ],
   "source": [
    " # Avg Ticket - Média do faturamento por cliente (ticket Médio)\n",
    "df_avg_ticket = df3_compra.loc[:, ['customer_id', 'gross_revenue']].groupby( 'customer_id' ).mean().reset_index().rename( columns={'gross_revenue':'avg_ticket'} )\n",
    "df_ref = pd.merge( df_ref, df_avg_ticket, on='customer_id', how='left')\n",
    "df_ref.isna().sum()"
   ]
  },
  {
   "cell_type": "markdown",
   "id": "1b13abe5",
   "metadata": {
    "slideshow": {
     "slide_type": "fragment"
    }
   },
   "source": [
    "### 4.4.6 - Average Recency days (Média de dias da recencia)"
   ]
  },
  {
   "cell_type": "code",
   "execution_count": 156,
   "id": "b4335ad5",
   "metadata": {
    "ExecuteTime": {
     "end_time": "2022-07-14T01:24:06.787188Z",
     "start_time": "2022-07-14T01:24:04.685308Z"
    }
   },
   "outputs": [],
   "source": [
    "df_aux = df3[['customer_id', 'invoice_date']].drop_duplicates().sort_values(['customer_id', 'invoice_date'])\n",
    "df_aux['next_customer_id'] = df_aux['customer_id'].shift() # Copia o costumer id da linha anterior\n",
    "df_aux['previous_date'] = df_aux['invoice_date'].shift()# Copia o invoice date da linha anterior\n",
    "\n",
    "df_aux['avg_recency_days'] = df_aux.apply(lambda x: (x['invoice_date'] - x['previous_date']).days if x['customer_id'] == x['next_customer_id'] else np.nan, axis=1)\n",
    "\n",
    "df_aux = df_aux.drop(['invoice_date', 'next_customer_id', 'previous_date'], axis=1).dropna()\n",
    "\n",
    "# Média\n",
    "df_avg_recency_days = df_aux.groupby('customer_id', as_index=False).mean()\n",
    "\n",
    "# Merge\n",
    "df_ref = pd.merge(df_ref, df_avg_recency_days, on='customer_id', how='left')"
   ]
  },
  {
   "cell_type": "code",
   "execution_count": 157,
   "id": "c49e4a3d",
   "metadata": {
    "ExecuteTime": {
     "end_time": "2022-07-14T01:24:06.822954Z",
     "start_time": "2022-07-14T01:24:06.798411Z"
    }
   },
   "outputs": [
    {
     "data": {
      "text/plain": [
       "customer_id            0\n",
       "gross_revenue         91\n",
       "recency_days          91\n",
       "qtde_invoices         91\n",
       "qtde_items            91\n",
       "qtde_products         91\n",
       "avg_ticket            91\n",
       "avg_recency_days    2816\n",
       "dtype: int64"
      ]
     },
     "execution_count": 157,
     "metadata": {},
     "output_type": "execute_result"
    }
   ],
   "source": [
    "df_ref.isnull().sum()"
   ]
  },
  {
   "cell_type": "markdown",
   "id": "b6ca9761",
   "metadata": {
    "slideshow": {
     "slide_type": "fragment"
    }
   },
   "source": [
    "### 4.4.7 - Frequência de compra"
   ]
  },
  {
   "cell_type": "code",
   "execution_count": 158,
   "id": "0654f449",
   "metadata": {
    "ExecuteTime": {
     "end_time": "2022-07-14T01:24:11.489894Z",
     "start_time": "2022-07-14T01:24:06.834242Z"
    }
   },
   "outputs": [],
   "source": [
    "df_freq = (df3_compra[['customer_id', 'invoice_no', 'invoice_date']].drop_duplicates().groupby('customer_id').agg(\n",
    "                                                                                max_ = ('invoice_date', 'max'),\n",
    "                                                                                min_ = ('invoice_date', 'max'),\n",
    "                                                                                days_ = ('invoice_date', lambda x: ((x.max() - x.min()).days) + 1),\n",
    "                                                                                buy_ = ('invoice_no', 'count'))).reset_index()\n",
    "# Frequency\n",
    "df_freq['frequency'] = df_freq[['buy_', 'days_']].apply(lambda x: x['buy_'] / x['days_'] if  x['days_'] != 0 else 0, axis=1)\n",
    "\n",
    "# Merge\n",
    "df_ref = pd.merge(df_ref, df_freq[['customer_id', 'frequency']], on='customer_id', how='left')"
   ]
  },
  {
   "cell_type": "code",
   "execution_count": 159,
   "id": "7a1b60f5",
   "metadata": {
    "ExecuteTime": {
     "end_time": "2022-07-14T01:24:11.553837Z",
     "start_time": "2022-07-14T01:24:11.507084Z"
    }
   },
   "outputs": [
    {
     "data": {
      "text/plain": [
       "customer_id            0\n",
       "gross_revenue         91\n",
       "recency_days          91\n",
       "qtde_invoices         91\n",
       "qtde_items            91\n",
       "qtde_products         91\n",
       "avg_ticket            91\n",
       "avg_recency_days    2816\n",
       "frequency             91\n",
       "dtype: int64"
      ]
     },
     "execution_count": 159,
     "metadata": {},
     "output_type": "execute_result"
    }
   ],
   "source": [
    "df_ref.isnull().sum()"
   ]
  },
  {
   "cell_type": "markdown",
   "id": "6d10fced",
   "metadata": {
    "slideshow": {
     "slide_type": "fragment"
    }
   },
   "source": [
    "### 4.4.8 - Número de retorno"
   ]
  },
  {
   "cell_type": "code",
   "execution_count": 160,
   "id": "b3c1f32f",
   "metadata": {
    "ExecuteTime": {
     "end_time": "2022-07-14T01:24:11.702344Z",
     "start_time": "2022-07-14T01:24:11.585576Z"
    },
    "scrolled": false
   },
   "outputs": [],
   "source": [
    "df_return = df3_devolucao.groupby('customer_id', as_index=False)['quantity'].sum().rename(columns={'quantity':'qtde_returns'})\n",
    "df_return['qtde_returns'] *= -1 \n",
    "\n",
    "df_ref = pd.merge(df_ref, df_return, how='left', on='customer_id')\n",
    "df_ref.loc[df_ref['qtde_returns'].isnull(), 'qtde_returns'] = 0"
   ]
  },
  {
   "cell_type": "code",
   "execution_count": 161,
   "id": "f8214d91",
   "metadata": {
    "ExecuteTime": {
     "end_time": "2022-07-14T01:24:11.783996Z",
     "start_time": "2022-07-14T01:24:11.725117Z"
    }
   },
   "outputs": [
    {
     "data": {
      "text/plain": [
       "customer_id            0\n",
       "gross_revenue         91\n",
       "recency_days          91\n",
       "qtde_invoices         91\n",
       "qtde_items            91\n",
       "qtde_products         91\n",
       "avg_ticket            91\n",
       "avg_recency_days    2816\n",
       "frequency             91\n",
       "qtde_returns           0\n",
       "dtype: int64"
      ]
     },
     "execution_count": 161,
     "metadata": {},
     "output_type": "execute_result"
    }
   ],
   "source": [
    "df_ref.isnull().sum()"
   ]
  },
  {
   "cell_type": "markdown",
   "id": "0eb37889",
   "metadata": {
    "slideshow": {
     "slide_type": "fragment"
    }
   },
   "source": [
    "### 4.4.9 - Basket case - Quantidade de itens por cesta\n",
    "- Invoice no = Compra = Purchase\n",
    "- Stock code = Porduto = Product\n",
    "- Quantity = Item"
   ]
  },
  {
   "cell_type": "code",
   "execution_count": 162,
   "id": "8c188f2b",
   "metadata": {
    "ExecuteTime": {
     "end_time": "2022-07-14T01:24:12.331042Z",
     "start_time": "2022-07-14T01:24:11.791651Z"
    }
   },
   "outputs": [],
   "source": [
    "df_aux = (df3_compra.loc[:, ['customer_id', 'invoice_no', 'quantity']].groupby('customer_id')\n",
    "                                                                        .agg(n_purchase=('invoice_no', 'nunique'),\n",
    "                                                                            n_products=('quantity', 'sum'))\n",
    "                                                                         .reset_index())\n",
    "\n",
    "# Calculo\n",
    "df_aux['avg_basket_size'] = df_aux['n_products'] / df_aux['n_purchase']\n",
    "\n",
    "# merge\n",
    "df_ref = pd.merge(df_ref, df_aux[['customer_id', 'avg_basket_size']], how='left', on='customer_id')"
   ]
  },
  {
   "cell_type": "code",
   "execution_count": 163,
   "id": "2219dc7d",
   "metadata": {
    "ExecuteTime": {
     "end_time": "2022-07-14T01:24:12.390490Z",
     "start_time": "2022-07-14T01:24:12.341480Z"
    }
   },
   "outputs": [
    {
     "data": {
      "text/plain": [
       "customer_id            0\n",
       "gross_revenue         91\n",
       "recency_days          91\n",
       "qtde_invoices         91\n",
       "qtde_items            91\n",
       "qtde_products         91\n",
       "avg_ticket            91\n",
       "avg_recency_days    2816\n",
       "frequency             91\n",
       "qtde_returns           0\n",
       "avg_basket_size       91\n",
       "dtype: int64"
      ]
     },
     "execution_count": 163,
     "metadata": {},
     "output_type": "execute_result"
    }
   ],
   "source": [
    "df_ref.isnull().sum()"
   ]
  },
  {
   "cell_type": "markdown",
   "id": "e9edd88b",
   "metadata": {
    "slideshow": {
     "slide_type": "fragment"
    }
   },
   "source": [
    "### 4.4.10 - Unique basket size - Quantidade de produtos distinto por compra"
   ]
  },
  {
   "cell_type": "code",
   "execution_count": 164,
   "id": "ccf80ced",
   "metadata": {
    "ExecuteTime": {
     "end_time": "2022-07-14T01:24:13.113823Z",
     "start_time": "2022-07-14T01:24:12.405947Z"
    }
   },
   "outputs": [],
   "source": [
    "df_aux = (df3_compra.loc[:, ['customer_id', 'invoice_no', 'stock_code']].groupby('customer_id')\n",
    "                                                                        .agg(n_purchase=('invoice_no', 'nunique'),\n",
    "                                                                            n_products=('stock_code', 'count'))\n",
    "                                                                         .reset_index())\n",
    "\n",
    "# Calculo\n",
    "df_aux['avg_unique_basket_size'] = df_aux['n_products'] / df_aux['n_purchase']\n",
    "\n",
    "# merge\n",
    "df_ref = pd.merge(df_ref, df_aux[['customer_id', 'avg_unique_basket_size']], how='left', on='customer_id')"
   ]
  },
  {
   "cell_type": "code",
   "execution_count": 165,
   "id": "53fb248f",
   "metadata": {
    "ExecuteTime": {
     "end_time": "2022-07-14T01:24:13.187354Z",
     "start_time": "2022-07-14T01:24:13.137689Z"
    }
   },
   "outputs": [
    {
     "data": {
      "text/plain": [
       "customer_id                  0\n",
       "gross_revenue               91\n",
       "recency_days                91\n",
       "qtde_invoices               91\n",
       "qtde_items                  91\n",
       "qtde_products               91\n",
       "avg_ticket                  91\n",
       "avg_recency_days          2816\n",
       "frequency                   91\n",
       "qtde_returns                 0\n",
       "avg_basket_size             91\n",
       "avg_unique_basket_size      91\n",
       "dtype: int64"
      ]
     },
     "execution_count": 165,
     "metadata": {},
     "output_type": "execute_result"
    }
   ],
   "source": [
    "df_ref.isnull().sum()"
   ]
  },
  {
   "cell_type": "code",
   "execution_count": 166,
   "id": "feb5e260",
   "metadata": {
    "ExecuteTime": {
     "end_time": "2022-07-14T01:24:13.294085Z",
     "start_time": "2022-07-14T01:24:13.194412Z"
    }
   },
   "outputs": [
    {
     "data": {
      "text/html": [
       "<div>\n",
       "<style scoped>\n",
       "    .dataframe tbody tr th:only-of-type {\n",
       "        vertical-align: middle;\n",
       "    }\n",
       "\n",
       "    .dataframe tbody tr th {\n",
       "        vertical-align: top;\n",
       "    }\n",
       "\n",
       "    .dataframe thead th {\n",
       "        text-align: right;\n",
       "    }\n",
       "</style>\n",
       "<table border=\"1\" class=\"dataframe\">\n",
       "  <thead>\n",
       "    <tr style=\"text-align: right;\">\n",
       "      <th></th>\n",
       "      <th>customer_id</th>\n",
       "      <th>gross_revenue</th>\n",
       "      <th>recency_days</th>\n",
       "      <th>qtde_invoices</th>\n",
       "      <th>qtde_items</th>\n",
       "      <th>qtde_products</th>\n",
       "      <th>avg_ticket</th>\n",
       "      <th>avg_recency_days</th>\n",
       "      <th>frequency</th>\n",
       "      <th>qtde_returns</th>\n",
       "      <th>avg_basket_size</th>\n",
       "      <th>avg_unique_basket_size</th>\n",
       "    </tr>\n",
       "  </thead>\n",
       "  <tbody>\n",
       "    <tr>\n",
       "      <th>0</th>\n",
       "      <td>17850</td>\n",
       "      <td>5391.21</td>\n",
       "      <td>372.0</td>\n",
       "      <td>34.0</td>\n",
       "      <td>35.0</td>\n",
       "      <td>21.0</td>\n",
       "      <td>18.152222</td>\n",
       "      <td>35.500000</td>\n",
       "      <td>17.000000</td>\n",
       "      <td>40.0</td>\n",
       "      <td>50.970588</td>\n",
       "      <td>8.735294</td>\n",
       "    </tr>\n",
       "    <tr>\n",
       "      <th>1</th>\n",
       "      <td>13047</td>\n",
       "      <td>3232.59</td>\n",
       "      <td>56.0</td>\n",
       "      <td>9.0</td>\n",
       "      <td>131.0</td>\n",
       "      <td>105.0</td>\n",
       "      <td>18.904035</td>\n",
       "      <td>27.250000</td>\n",
       "      <td>0.028302</td>\n",
       "      <td>35.0</td>\n",
       "      <td>154.444444</td>\n",
       "      <td>19.000000</td>\n",
       "    </tr>\n",
       "    <tr>\n",
       "      <th>2</th>\n",
       "      <td>12583</td>\n",
       "      <td>6705.38</td>\n",
       "      <td>2.0</td>\n",
       "      <td>15.0</td>\n",
       "      <td>1568.0</td>\n",
       "      <td>114.0</td>\n",
       "      <td>28.902500</td>\n",
       "      <td>23.187500</td>\n",
       "      <td>0.040323</td>\n",
       "      <td>50.0</td>\n",
       "      <td>335.200000</td>\n",
       "      <td>15.466667</td>\n",
       "    </tr>\n",
       "    <tr>\n",
       "      <th>3</th>\n",
       "      <td>13748</td>\n",
       "      <td>948.25</td>\n",
       "      <td>95.0</td>\n",
       "      <td>5.0</td>\n",
       "      <td>169.0</td>\n",
       "      <td>24.0</td>\n",
       "      <td>33.866071</td>\n",
       "      <td>92.666667</td>\n",
       "      <td>0.017921</td>\n",
       "      <td>0.0</td>\n",
       "      <td>87.800000</td>\n",
       "      <td>5.600000</td>\n",
       "    </tr>\n",
       "    <tr>\n",
       "      <th>4</th>\n",
       "      <td>15100</td>\n",
       "      <td>876.00</td>\n",
       "      <td>333.0</td>\n",
       "      <td>3.0</td>\n",
       "      <td>48.0</td>\n",
       "      <td>1.0</td>\n",
       "      <td>292.000000</td>\n",
       "      <td>8.600000</td>\n",
       "      <td>0.073171</td>\n",
       "      <td>22.0</td>\n",
       "      <td>26.666667</td>\n",
       "      <td>1.000000</td>\n",
       "    </tr>\n",
       "  </tbody>\n",
       "</table>\n",
       "</div>"
      ],
      "text/plain": [
       "   customer_id  gross_revenue  recency_days  qtde_invoices  qtde_items  qtde_products  avg_ticket  avg_recency_days  frequency  qtde_returns  avg_basket_size  avg_unique_basket_size\n",
       "0        17850        5391.21         372.0           34.0        35.0           21.0   18.152222         35.500000  17.000000          40.0        50.970588                8.735294\n",
       "1        13047        3232.59          56.0            9.0       131.0          105.0   18.904035         27.250000   0.028302          35.0       154.444444               19.000000\n",
       "2        12583        6705.38           2.0           15.0      1568.0          114.0   28.902500         23.187500   0.040323          50.0       335.200000               15.466667\n",
       "3        13748         948.25          95.0            5.0       169.0           24.0   33.866071         92.666667   0.017921           0.0        87.800000                5.600000\n",
       "4        15100         876.00         333.0            3.0        48.0            1.0  292.000000          8.600000   0.073171          22.0        26.666667                1.000000"
      ]
     },
     "execution_count": 166,
     "metadata": {},
     "output_type": "execute_result"
    }
   ],
   "source": [
    "df_ref.head()"
   ]
  },
  {
   "cell_type": "markdown",
   "id": "00189a88",
   "metadata": {},
   "source": [
    "# 5 - Análise exploratória dos dados"
   ]
  },
  {
   "cell_type": "code",
   "execution_count": 128,
   "id": "d460aa7a",
   "metadata": {
    "ExecuteTime": {
     "end_time": "2022-07-14T00:57:41.084062Z",
     "start_time": "2022-07-14T00:57:41.054648Z"
    }
   },
   "outputs": [
    {
     "data": {
      "text/plain": [
       "customer_id               0\n",
       "gross_revenue             0\n",
       "recency_days              0\n",
       "invoice_no                0\n",
       "quantity                  0\n",
       "avg_ticket                0\n",
       "avg_recency_days          0\n",
       "frequency                 0\n",
       "qtde_returns              0\n",
       "avg_basket_size           0\n",
       "avg_unique_basket_size    0\n",
       "dtype: int64"
      ]
     },
     "execution_count": 128,
     "metadata": {},
     "output_type": "execute_result"
    }
   ],
   "source": [
    "df5 = df_ref.dropna()\n",
    "df5.isna().sum()"
   ]
  },
  {
   "cell_type": "markdown",
   "id": "99cc1f94",
   "metadata": {},
   "source": [
    "## 5.1 - Análise univariada"
   ]
  },
  {
   "cell_type": "code",
   "execution_count": 167,
   "id": "8d1c5aaf",
   "metadata": {
    "ExecuteTime": {
     "end_time": "2022-07-14T01:25:20.857258Z",
     "start_time": "2022-07-14T01:24:51.467157Z"
    },
    "hide_input": false
   },
   "outputs": [
    {
     "data": {
      "application/vnd.jupyter.widget-view+json": {
       "model_id": "",
       "version_major": 2,
       "version_minor": 0
      },
      "text/plain": [
       "  0%|                                                                                          | 0/2278 [00:00…"
      ]
     },
     "metadata": {},
     "output_type": "display_data"
    },
    {
     "name": "stdout",
     "output_type": "stream",
     "text": [
      "Report has been saved to ../references/analise.html!\n"
     ]
    }
   ],
   "source": [
    "report = create_report(df5)\n",
    "report.save('../references/analise.html')"
   ]
  },
  {
   "cell_type": "markdown",
   "id": "a7adf6d1",
   "metadata": {
    "heading_collapsed": true
   },
   "source": [
    "## 5.2 - Análise bivariada"
   ]
  },
  {
   "cell_type": "code",
   "execution_count": null,
   "id": "e0707de5",
   "metadata": {
    "ExecuteTime": {
     "end_time": "2022-07-02T15:42:56.376864Z",
     "start_time": "2022-07-02T15:42:56.369006Z"
    },
    "hidden": true
   },
   "outputs": [],
   "source": [
    "# Validação das hipóteses"
   ]
  },
  {
   "cell_type": "markdown",
   "id": "f37e61c2",
   "metadata": {},
   "source": [
    "## 5.3 - Análise multivariada"
   ]
  },
  {
   "cell_type": "markdown",
   "id": "cd929934",
   "metadata": {},
   "source": [
    "### 5.3.1 - Análise numérica"
   ]
  },
  {
   "cell_type": "code",
   "execution_count": null,
   "id": "4e00d236",
   "metadata": {
    "ExecuteTime": {
     "end_time": "2022-07-02T15:42:57.101443Z",
     "start_time": "2022-07-02T15:42:56.383676Z"
    }
   },
   "outputs": [],
   "source": [
    "# Método de pearson\n",
    "correlacao = num.corr()\n",
    "sns.heatmap(correlacao, annot=True, cmap='bwr')"
   ]
  },
  {
   "cell_type": "markdown",
   "id": "c9a3b0f3",
   "metadata": {},
   "source": [
    "### 5.3.2 - Análise categórica"
   ]
  },
  {
   "cell_type": "code",
   "execution_count": null,
   "id": "1af00f05",
   "metadata": {
    "ExecuteTime": {
     "start_time": "2022-07-02T15:42:46.664Z"
    }
   },
   "outputs": [],
   "source": [
    "# Método de Cramer\n",
    "correlacao = corr_matrix(cat, cat.columns)\n",
    "sns.heatmap(correlacao, annot=True, cmap='bwr')"
   ]
  },
  {
   "cell_type": "markdown",
   "id": "569eb7c0",
   "metadata": {},
   "source": [
    "# 6 - Preparação dos dados"
   ]
  },
  {
   "cell_type": "code",
   "execution_count": 124,
   "id": "abbd97f0",
   "metadata": {
    "ExecuteTime": {
     "end_time": "2022-07-06T22:10:19.141068Z",
     "start_time": "2022-07-06T22:10:19.131478Z"
    }
   },
   "outputs": [],
   "source": [
    "df5_meio = df5.copy()"
   ]
  },
  {
   "cell_type": "code",
   "execution_count": 125,
   "id": "9cba4696",
   "metadata": {
    "ExecuteTime": {
     "end_time": "2022-07-06T22:10:19.666785Z",
     "start_time": "2022-07-06T22:10:19.605135Z"
    }
   },
   "outputs": [],
   "source": [
    "ss = StandardScaler()\n",
    "\n",
    "df5_meio['gross_revenue'] = ss.fit_transform(df5_meio[['gross_revenue']])\n",
    "df5_meio['recency_days'] = ss.fit_transform(df5_meio[['recency_days']])\n",
    "df5_meio['invoice_no'] = ss.fit_transform(df5_meio[['invoice_no']])\n",
    "df5_meio['avg_ticket'] = ss.fit_transform(df5_meio[['avg_ticket']])"
   ]
  },
  {
   "cell_type": "markdown",
   "id": "d03115f9",
   "metadata": {},
   "source": [
    "# 6 - Seleção de features"
   ]
  },
  {
   "cell_type": "code",
   "execution_count": 126,
   "id": "7f23ba53",
   "metadata": {
    "ExecuteTime": {
     "end_time": "2022-07-06T22:10:20.517557Z",
     "start_time": "2022-07-06T22:10:20.504922Z"
    }
   },
   "outputs": [],
   "source": [
    "df6 = df5_meio.drop('customer_id', axis=1)"
   ]
  },
  {
   "cell_type": "code",
   "execution_count": 127,
   "id": "51797e9e",
   "metadata": {
    "ExecuteTime": {
     "end_time": "2022-07-06T22:10:20.880436Z",
     "start_time": "2022-07-06T22:10:20.849254Z"
    }
   },
   "outputs": [
    {
     "data": {
      "text/html": [
       "<div>\n",
       "<style scoped>\n",
       "    .dataframe tbody tr th:only-of-type {\n",
       "        vertical-align: middle;\n",
       "    }\n",
       "\n",
       "    .dataframe tbody tr th {\n",
       "        vertical-align: top;\n",
       "    }\n",
       "\n",
       "    .dataframe thead th {\n",
       "        text-align: right;\n",
       "    }\n",
       "</style>\n",
       "<table border=\"1\" class=\"dataframe\">\n",
       "  <thead>\n",
       "    <tr style=\"text-align: right;\">\n",
       "      <th></th>\n",
       "      <th>gross_revenue</th>\n",
       "      <th>recency_days</th>\n",
       "      <th>invoice_no</th>\n",
       "      <th>avg_ticket</th>\n",
       "    </tr>\n",
       "  </thead>\n",
       "  <tbody>\n",
       "    <tr>\n",
       "      <th>0</th>\n",
       "      <td>0.371133</td>\n",
       "      <td>2.798920</td>\n",
       "      <td>3.857091</td>\n",
       "      <td>-0.033810</td>\n",
       "    </tr>\n",
       "    <tr>\n",
       "      <th>1</th>\n",
       "      <td>0.131576</td>\n",
       "      <td>-0.610369</td>\n",
       "      <td>0.742953</td>\n",
       "      <td>-0.033353</td>\n",
       "    </tr>\n",
       "    <tr>\n",
       "      <th>2</th>\n",
       "      <td>0.581380</td>\n",
       "      <td>-0.900308</td>\n",
       "      <td>1.391732</td>\n",
       "      <td>-0.026093</td>\n",
       "    </tr>\n",
       "    <tr>\n",
       "      <th>3</th>\n",
       "      <td>-0.123066</td>\n",
       "      <td>0.029498</td>\n",
       "      <td>0.094175</td>\n",
       "      <td>-0.023104</td>\n",
       "    </tr>\n",
       "    <tr>\n",
       "      <th>4</th>\n",
       "      <td>-0.131102</td>\n",
       "      <td>2.409002</td>\n",
       "      <td>-0.165337</td>\n",
       "      <td>0.152764</td>\n",
       "    </tr>\n",
       "  </tbody>\n",
       "</table>\n",
       "</div>"
      ],
      "text/plain": [
       "   gross_revenue  recency_days  invoice_no  avg_ticket\n",
       "0       0.371133      2.798920    3.857091   -0.033810\n",
       "1       0.131576     -0.610369    0.742953   -0.033353\n",
       "2       0.581380     -0.900308    1.391732   -0.026093\n",
       "3      -0.123066      0.029498    0.094175   -0.023104\n",
       "4      -0.131102      2.409002   -0.165337    0.152764"
      ]
     },
     "execution_count": 127,
     "metadata": {},
     "output_type": "execute_result"
    }
   ],
   "source": [
    "df6.head()"
   ]
  },
  {
   "cell_type": "markdown",
   "id": "a6ef2e12",
   "metadata": {},
   "source": [
    "# 7 - Fine Tunning"
   ]
  },
  {
   "cell_type": "code",
   "execution_count": 128,
   "id": "fd2f4544",
   "metadata": {
    "ExecuteTime": {
     "end_time": "2022-07-06T22:10:21.735717Z",
     "start_time": "2022-07-06T22:10:21.728741Z"
    }
   },
   "outputs": [],
   "source": [
    "X = df6.copy()"
   ]
  },
  {
   "cell_type": "code",
   "execution_count": 129,
   "id": "afe8875f",
   "metadata": {
    "ExecuteTime": {
     "end_time": "2022-07-06T22:10:22.027137Z",
     "start_time": "2022-07-06T22:10:22.018864Z"
    }
   },
   "outputs": [],
   "source": [
    "clusters = [2, 3, 4, 5, 6, 7]"
   ]
  },
  {
   "cell_type": "markdown",
   "id": "8aca7cd4",
   "metadata": {},
   "source": [
    "## 7.1 - Within-Cluster Sum of Score (WSS)"
   ]
  },
  {
   "cell_type": "code",
   "execution_count": 130,
   "id": "8f4e429a",
   "metadata": {
    "ExecuteTime": {
     "end_time": "2022-07-06T22:10:33.107784Z",
     "start_time": "2022-07-06T22:10:22.570136Z"
    }
   },
   "outputs": [
    {
     "data": {
      "image/png": "[encoded data removed]",
      "text/plain": [
       "<Figure size 1728x648 with 1 Axes>"
      ]
     },
     "metadata": {},
     "output_type": "display_data"
    }
   ],
   "source": [
    "kmeans = KElbowVisualizer(KMeans(), k=clusters, timings=False)\n",
    "kmeans.fit(X)\n",
    "kmeans.show();"
   ]
  },
  {
   "cell_type": "markdown",
   "id": "6e7261d6",
   "metadata": {},
   "source": [
    "## 7.2 - Silhouette Score"
   ]
  },
  {
   "cell_type": "code",
   "execution_count": 131,
   "id": "88166934",
   "metadata": {
    "ExecuteTime": {
     "end_time": "2022-07-06T22:10:51.981191Z",
     "start_time": "2022-07-06T22:10:33.124394Z"
    }
   },
   "outputs": [
    {
     "data": {
      "image/png": "[encoded data removed]",
      "text/plain": [
       "<Figure size 1728x648 with 1 Axes>"
      ]
     },
     "metadata": {},
     "output_type": "display_data"
    }
   ],
   "source": [
    "kmeans = KElbowVisualizer(KMeans(), k=clusters, timings=False, metric='silhouette')\n",
    "kmeans.fit(X)\n",
    "kmeans.show();"
   ]
  },
  {
   "cell_type": "markdown",
   "id": "0b02aef0",
   "metadata": {},
   "source": [
    "## 7.3 - Análise da Silhoutte"
   ]
  },
  {
   "cell_type": "code",
   "execution_count": 132,
   "id": "64c920ff",
   "metadata": {
    "ExecuteTime": {
     "end_time": "2022-07-06T22:11:38.164067Z",
     "start_time": "2022-07-06T22:11:12.431803Z"
    }
   },
   "outputs": [
    {
     "data": {
      "image/png": "[encoded data removed]",
      "text/plain": [
       "<Figure size 1800x1296 with 6 Axes>"
      ]
     },
     "metadata": {},
     "output_type": "display_data"
    }
   ],
   "source": [
    "fig, ax = plt.subplots(3, 2, figsize=(25, 18))\n",
    "\n",
    "for k in clusters:\n",
    "    km = KMeans(n_clusters=k, init='random', n_init=10, max_iter=100, random_state=42)\n",
    "    q, mod = divmod(k, 2)\n",
    "    \n",
    "    vizualizer = SilhouetteVisualizer(km, color='yellowbricks', ax=ax[q-1][mod])\n",
    "    vizualizer.fit(X)\n",
    "    vizualizer.finalize()"
   ]
  },
  {
   "cell_type": "markdown",
   "id": "8c394b26",
   "metadata": {},
   "source": [
    "# 8 - Model Training"
   ]
  },
  {
   "cell_type": "code",
   "execution_count": 141,
   "id": "ea9b2f63",
   "metadata": {
    "ExecuteTime": {
     "end_time": "2022-07-06T22:12:32.679113Z",
     "start_time": "2022-07-06T22:12:31.819454Z"
    }
   },
   "outputs": [],
   "source": [
    "# Definição do modelo\n",
    "k = 3\n",
    "kmeans = KMeans(init='random', n_clusters=k, n_init=10, random_state=42)\n",
    "\n",
    "# Treinamento do modelo\n",
    "kmeans.fit(X)\n",
    "\n",
    "# clustering\n",
    "labels = kmeans.labels_"
   ]
  },
  {
   "cell_type": "code",
   "execution_count": 142,
   "id": "f45fa726",
   "metadata": {
    "ExecuteTime": {
     "end_time": "2022-07-06T22:12:33.640501Z",
     "start_time": "2022-07-06T22:12:32.685994Z"
    }
   },
   "outputs": [
    {
     "name": "stdout",
     "output_type": "stream",
     "text": [
      "Valor do WSS: 9423.021514742908\n",
      "Valor do SS: 0.5885387705149023\n"
     ]
    }
   ],
   "source": [
    "print(f'Valor do WSS: {kmeans.inertia_}')\n",
    "print('Valor do SS: {}'.format(silhouette_score(X, labels, metric='euclidean')))"
   ]
  },
  {
   "cell_type": "markdown",
   "id": "619bd397",
   "metadata": {},
   "source": [
    "# 9 - Análise do cluster"
   ]
  },
  {
   "cell_type": "code",
   "execution_count": 143,
   "id": "221bdab8",
   "metadata": {
    "ExecuteTime": {
     "end_time": "2022-07-06T22:12:33.663358Z",
     "start_time": "2022-07-06T22:12:33.650530Z"
    }
   },
   "outputs": [],
   "source": [
    "df9 = df5.copy()\n",
    "df9['cluster'] = labels"
   ]
  },
  {
   "cell_type": "code",
   "execution_count": 144,
   "id": "0f5e03c0",
   "metadata": {
    "ExecuteTime": {
     "end_time": "2022-07-06T22:12:33.716177Z",
     "start_time": "2022-07-06T22:12:33.672192Z"
    }
   },
   "outputs": [
    {
     "data": {
      "text/html": [
       "<div>\n",
       "<style scoped>\n",
       "    .dataframe tbody tr th:only-of-type {\n",
       "        vertical-align: middle;\n",
       "    }\n",
       "\n",
       "    .dataframe tbody tr th {\n",
       "        vertical-align: top;\n",
       "    }\n",
       "\n",
       "    .dataframe thead th {\n",
       "        text-align: right;\n",
       "    }\n",
       "</style>\n",
       "<table border=\"1\" class=\"dataframe\">\n",
       "  <thead>\n",
       "    <tr style=\"text-align: right;\">\n",
       "      <th></th>\n",
       "      <th>customer_id</th>\n",
       "      <th>gross_revenue</th>\n",
       "      <th>recency_days</th>\n",
       "      <th>invoice_no</th>\n",
       "      <th>avg_ticket</th>\n",
       "      <th>cluster</th>\n",
       "    </tr>\n",
       "  </thead>\n",
       "  <tbody>\n",
       "    <tr>\n",
       "      <th>0</th>\n",
       "      <td>17850</td>\n",
       "      <td>5391.21</td>\n",
       "      <td>372.0</td>\n",
       "      <td>34.0</td>\n",
       "      <td>18.152222</td>\n",
       "      <td>1</td>\n",
       "    </tr>\n",
       "    <tr>\n",
       "      <th>1</th>\n",
       "      <td>13047</td>\n",
       "      <td>3237.54</td>\n",
       "      <td>31.0</td>\n",
       "      <td>10.0</td>\n",
       "      <td>18.822907</td>\n",
       "      <td>2</td>\n",
       "    </tr>\n",
       "    <tr>\n",
       "      <th>2</th>\n",
       "      <td>12583</td>\n",
       "      <td>7281.38</td>\n",
       "      <td>2.0</td>\n",
       "      <td>15.0</td>\n",
       "      <td>29.479271</td>\n",
       "      <td>2</td>\n",
       "    </tr>\n",
       "    <tr>\n",
       "      <th>3</th>\n",
       "      <td>13748</td>\n",
       "      <td>948.25</td>\n",
       "      <td>95.0</td>\n",
       "      <td>5.0</td>\n",
       "      <td>33.866071</td>\n",
       "      <td>2</td>\n",
       "    </tr>\n",
       "    <tr>\n",
       "      <th>4</th>\n",
       "      <td>15100</td>\n",
       "      <td>876.00</td>\n",
       "      <td>333.0</td>\n",
       "      <td>3.0</td>\n",
       "      <td>292.000000</td>\n",
       "      <td>1</td>\n",
       "    </tr>\n",
       "  </tbody>\n",
       "</table>\n",
       "</div>"
      ],
      "text/plain": [
       "   customer_id  gross_revenue  recency_days  invoice_no  avg_ticket  cluster\n",
       "0        17850        5391.21         372.0        34.0   18.152222        1\n",
       "1        13047        3237.54          31.0        10.0   18.822907        2\n",
       "2        12583        7281.38           2.0        15.0   29.479271        2\n",
       "3        13748         948.25          95.0         5.0   33.866071        2\n",
       "4        15100         876.00         333.0         3.0  292.000000        1"
      ]
     },
     "execution_count": 144,
     "metadata": {},
     "output_type": "execute_result"
    }
   ],
   "source": [
    "df9.head()"
   ]
  },
  {
   "cell_type": "markdown",
   "id": "7b68ec63",
   "metadata": {
    "ExecuteTime": {
     "end_time": "2022-07-02T17:52:34.807250Z",
     "start_time": "2022-07-02T17:52:34.774679Z"
    }
   },
   "source": [
    "## 9.1 - Vizualização de inspeção"
   ]
  },
  {
   "cell_type": "code",
   "execution_count": 145,
   "id": "bbf6c61a",
   "metadata": {
    "ExecuteTime": {
     "end_time": "2022-07-06T22:12:33.838890Z",
     "start_time": "2022-07-06T22:12:33.822613Z"
    }
   },
   "outputs": [
    {
     "data": {
      "text/plain": [
       "Index(['customer_id', 'gross_revenue', 'recency_days', 'invoice_no',\n",
       "       'avg_ticket', 'cluster'],\n",
       "      dtype='object')"
      ]
     },
     "execution_count": 145,
     "metadata": {},
     "output_type": "execute_result"
    }
   ],
   "source": [
    "df9.columns"
   ]
  },
  {
   "cell_type": "code",
   "execution_count": 146,
   "id": "1d6caabc",
   "metadata": {
    "ExecuteTime": {
     "end_time": "2022-07-06T22:12:36.555842Z",
     "start_time": "2022-07-06T22:12:34.128029Z"
    }
   },
   "outputs": [
    {
     "data": {
      "image/png": "[encoded data removed]",
      "text/plain": [
       "<Figure size 1728x648 with 1 Axes>"
      ]
     },
     "metadata": {},
     "output_type": "display_data"
    }
   ],
   "source": [
    "vizualizer = SilhouetteVisualizer(kmeans, color='yellowbricks')\n",
    "vizualizer.fit(X)\n",
    "vizualizer.finalize()"
   ]
  },
  {
   "cell_type": "markdown",
   "id": "303242eb",
   "metadata": {},
   "source": [
    "## 9.2 - 2d plot"
   ]
  },
  {
   "cell_type": "code",
   "execution_count": 147,
   "id": "04970b20",
   "metadata": {
    "ExecuteTime": {
     "end_time": "2022-07-06T22:12:51.802889Z",
     "start_time": "2022-07-06T22:12:36.565533Z"
    }
   },
   "outputs": [
    {
     "data": {
      "image/png": "[encoded data removed]",
      "text/plain": [
       "<Figure size 769.8x720 with 20 Axes>"
      ]
     },
     "metadata": {},
     "output_type": "display_data"
    }
   ],
   "source": [
    "df_viz = df9.drop('customer_id', axis=1)\n",
    "sns.pairplot(df_viz, hue='cluster', palette='dark');"
   ]
  },
  {
   "cell_type": "markdown",
   "id": "1cc10630",
   "metadata": {},
   "source": [
    "## 9.3 - Umap"
   ]
  },
  {
   "cell_type": "code",
   "execution_count": 149,
   "id": "47403034",
   "metadata": {
    "ExecuteTime": {
     "end_time": "2022-07-06T22:14:46.341976Z",
     "start_time": "2022-07-06T22:14:15.561447Z"
    }
   },
   "outputs": [
    {
     "data": {
      "text/plain": [
       "<AxesSubplot:xlabel='embedding_x', ylabel='embedding_y'>"
      ]
     },
     "execution_count": 149,
     "metadata": {},
     "output_type": "execute_result"
    },
    {
     "data": {
      "image/png": "[encoded data removed]",
      "text/plain": [
       "<Figure size 1728x648 with 1 Axes>"
      ]
     },
     "metadata": {},
     "output_type": "display_data"
    }
   ],
   "source": [
    "reducer = umap.UMAP(n_neighbors=90, random_state=42)\n",
    "embedding = reducer.fit_transform(X)\n",
    "\n",
    "# embedding\n",
    "df_viz['embedding_x'] = embedding[:, 0]\n",
    "df_viz['embedding_y'] = embedding[:, 1]\n",
    "\n",
    "# Plot UMAP\n",
    "sns.scatterplot(x='embedding_x', y='embedding_y', data=df_viz, hue='cluster', palette=sns.color_palette('hls', n_colors=len(df_viz['cluster'].unique())))"
   ]
  },
  {
   "cell_type": "markdown",
   "id": "17ac7da8",
   "metadata": {},
   "source": [
    "## 9.4 - Perfil do cluster"
   ]
  },
  {
   "cell_type": "code",
   "execution_count": null,
   "id": "8903ede5",
   "metadata": {
    "ExecuteTime": {
     "end_time": "2022-07-06T22:12:25.680576Z",
     "start_time": "2022-07-06T22:12:25.680507Z"
    },
    "scrolled": true
   },
   "outputs": [],
   "source": [
    "df9.head()"
   ]
  },
  {
   "cell_type": "code",
   "execution_count": 61,
   "id": "2663e17a",
   "metadata": {
    "ExecuteTime": {
     "end_time": "2022-07-06T14:56:02.047314Z",
     "start_time": "2022-07-06T14:56:01.947496Z"
    }
   },
   "outputs": [
    {
     "data": {
      "text/html": [
       "<div>\n",
       "<style scoped>\n",
       "    .dataframe tbody tr th:only-of-type {\n",
       "        vertical-align: middle;\n",
       "    }\n",
       "\n",
       "    .dataframe tbody tr th {\n",
       "        vertical-align: top;\n",
       "    }\n",
       "\n",
       "    .dataframe thead th {\n",
       "        text-align: right;\n",
       "    }\n",
       "</style>\n",
       "<table border=\"1\" class=\"dataframe\">\n",
       "  <thead>\n",
       "    <tr style=\"text-align: right;\">\n",
       "      <th></th>\n",
       "      <th>cluster</th>\n",
       "      <th>customers</th>\n",
       "      <th>percent_customer</th>\n",
       "      <th>gross_revenue</th>\n",
       "      <th>recency_days</th>\n",
       "      <th>invoice_no</th>\n",
       "      <th>avg_ticket</th>\n",
       "    </tr>\n",
       "  </thead>\n",
       "  <tbody>\n",
       "    <tr>\n",
       "      <th>0</th>\n",
       "      <td>0</td>\n",
       "      <td>4071</td>\n",
       "      <td>93.12</td>\n",
       "      <td>946.70</td>\n",
       "      <td>96.97</td>\n",
       "      <td>3.64</td>\n",
       "      <td>25.36</td>\n",
       "    </tr>\n",
       "    <tr>\n",
       "      <th>1</th>\n",
       "      <td>1</td>\n",
       "      <td>6</td>\n",
       "      <td>0.14</td>\n",
       "      <td>182181.98</td>\n",
       "      <td>7.17</td>\n",
       "      <td>89.00</td>\n",
       "      <td>253.63</td>\n",
       "    </tr>\n",
       "    <tr>\n",
       "      <th>2</th>\n",
       "      <td>2</td>\n",
       "      <td>28</td>\n",
       "      <td>0.64</td>\n",
       "      <td>42614.39</td>\n",
       "      <td>6.18</td>\n",
       "      <td>57.82</td>\n",
       "      <td>162.86</td>\n",
       "    </tr>\n",
       "    <tr>\n",
       "      <th>3</th>\n",
       "      <td>3</td>\n",
       "      <td>267</td>\n",
       "      <td>6.11</td>\n",
       "      <td>8089.03</td>\n",
       "      <td>20.28</td>\n",
       "      <td>19.53</td>\n",
       "      <td>62.78</td>\n",
       "    </tr>\n",
       "  </tbody>\n",
       "</table>\n",
       "</div>"
      ],
      "text/plain": [
       "   cluster  customers  percent_customer  gross_revenue  recency_days  invoice_no  avg_ticket\n",
       "0        0       4071             93.12         946.70         96.97        3.64       25.36\n",
       "1        1          6              0.14      182181.98          7.17       89.00      253.63\n",
       "2        2         28              0.64       42614.39          6.18       57.82      162.86\n",
       "3        3        267              6.11        8089.03         20.28       19.53       62.78"
      ]
     },
     "execution_count": 61,
     "metadata": {},
     "output_type": "execute_result"
    }
   ],
   "source": [
    "# Número de customers\n",
    "df_cluster = df9.groupby('cluster', as_index=False)['customer_id'].count()\n",
    "df_cluster['percent_customer'] = (df_cluster['customer_id']/df_cluster['customer_id'].sum()) *100\n",
    "df_cluster.rename(columns={'customer_id':'customers'}, inplace=True)\n",
    "\n",
    "# Média do gross_revenue\n",
    "df_gross_revenue = df9.groupby('cluster', as_index=False)['gross_revenue'].mean()\n",
    "df_cluster = pd.merge(df_cluster, df_gross_revenue, on='cluster', how='inner')\n",
    "\n",
    "# Média do recency_days\n",
    "df_recency_days = df9.groupby('cluster', as_index=False)['recency_days'].mean()\n",
    "df_cluster = pd.merge(df_cluster, df_recency_days, on='cluster', how='inner')\n",
    "\n",
    "# Média do invoice_no\n",
    "df_invoice_no = df9.groupby('cluster', as_index=False)['invoice_no'].mean()\n",
    "df_cluster = pd.merge(df_cluster, df_invoice_no, on='cluster', how='inner')\n",
    "\n",
    "# Média do ticket médio\n",
    "df_ticket = df9.groupby('cluster', as_index=False)['avg_ticket'].mean()\n",
    "df_cluster = pd.merge(df_cluster, df_ticket, on='cluster', how='inner')\n",
    "\n",
    "df_cluster"
   ]
  },
  {
   "cell_type": "markdown",
   "id": "7d3b2779",
   "metadata": {},
   "source": [
    "### Cluster 1 (Candidatos Insiders)\n",
    "\n",
    "- Número de customers: 6 (0.14% do customers )\n",
    "- Recência em média: 7 dias\n",
    "- Compras em média: 89 compras\n",
    "- Receita em média: $182.182,00 dólares\n",
    "\n",
    "### Cluster 2\n",
    "\n",
    "- Número de customers: 31 (0.71 do customers )\n",
    "- Recência em média: 14 dias\n",
    "- Compras em média: 53 compras\n",
    "- Receita em média: $40.543,52 dólares\n",
    "\n",
    "### Cluster 3\n",
    "\n",
    "- Número de customers: 4.335 (99% do customers )\n",
    "- Recência em média: 92 dias\n",
    "- Compras em média: 5 compras\n",
    "- Receita em média: $1.372,57 dólares"
   ]
  },
  {
   "cell_type": "markdown",
   "id": "6f085929",
   "metadata": {},
   "source": [
    "# 10 - Tradução e interpretação do erro"
   ]
  },
  {
   "cell_type": "code",
   "execution_count": null,
   "id": "4809f8d9",
   "metadata": {},
   "outputs": [],
   "source": []
  },
  {
   "cell_type": "markdown",
   "id": "332fb3cb",
   "metadata": {},
   "source": [
    "## 10.1 - Business Perfomance"
   ]
  },
  {
   "cell_type": "code",
   "execution_count": null,
   "id": "23529004",
   "metadata": {},
   "outputs": [],
   "source": []
  },
  {
   "cell_type": "markdown",
   "id": "47f0a034",
   "metadata": {},
   "source": [
    "## 10.2 - Total Perfomance"
   ]
  },
  {
   "cell_type": "code",
   "execution_count": null,
   "id": "eb99ccf9",
   "metadata": {},
   "outputs": [],
   "source": []
  },
  {
   "cell_type": "markdown",
   "id": "e2e69671",
   "metadata": {},
   "source": [
    "## 10.3 - Machine Learning Perfomance"
   ]
  },
  {
   "cell_type": "code",
   "execution_count": null,
   "id": "b9c0c7c8",
   "metadata": {},
   "outputs": [],
   "source": []
  }
 ],
 "metadata": {
  "kernelspec": {
   "display_name": "Python 3 (ipykernel)",
   "language": "python",
   "name": "python3"
  },
  "language_info": {
   "codemirror_mode": {
    "name": "ipython",
    "version": 3
   },
   "file_extension": ".py",
   "mimetype": "text/x-python",
   "name": "python",
   "nbconvert_exporter": "python",
   "pygments_lexer": "ipython3",
   "version": "3.8.0"
  },
  "toc": {
   "base_numbering": 1,
   "nav_menu": {},
   "number_sections": false,
   "sideBar": true,
   "skip_h1_title": false,
   "title_cell": "Table of Contents",
   "title_sidebar": "Contents",
   "toc_cell": false,
   "toc_position": {},
   "toc_section_display": true,
   "toc_window_display": false
  }
 },
 "nbformat": 4,
 "nbformat_minor": 5
}
